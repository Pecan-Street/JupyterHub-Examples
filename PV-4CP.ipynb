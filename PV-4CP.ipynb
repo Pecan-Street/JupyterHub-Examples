{
 "cells": [
  {
   "cell_type": "markdown",
   "metadata": {},
   "source": [
    "# PV Notebook\n",
    "This notebook will explore solar generation around the ERCOT 4CP events."
   ]
  },
  {
   "cell_type": "code",
   "execution_count": 1,
   "metadata": {},
   "outputs": [
    {
     "data": {
      "text/plain": [
       "'/Library/Developer/CommandLineTools/usr/bin/python3'"
      ]
     },
     "execution_count": 1,
     "metadata": {},
     "output_type": "execute_result"
    }
   ],
   "source": [
    "import pandas as pd\n",
    "import psycopg2\n",
    "import sqlalchemy as sqla\n",
    "import os\n",
    "from config.read_config import get_database_config\n",
    "import sys\n",
    "sys.executable  # shows you your path to the python you're using"
   ]
  },
  {
   "cell_type": "code",
   "execution_count": 2,
   "metadata": {},
   "outputs": [
    {
     "name": "stdout",
     "output_type": "stream",
     "text": [
      "Error reading database configuration. Does the config/config.txt file exist and have entries for hostname, username, password, database, and port?\n"
     ]
    },
    {
     "name": "stderr",
     "output_type": "stream",
     "text": [
      "Traceback (most recent call last):\n",
      "  File \"/Users/smock/src/JupyterHub-Examples/config/read_config.py\", line 13, in get_database_config\n",
      "    \"port\": int(config.get(\"database_config\", \"port\")),\n",
      "ValueError: invalid literal for int() with base 10: ''\n"
     ]
    }
   ],
   "source": [
    "# read in db credentials from config/config.txt\n",
    "database_config = get_database_config(\"./config/config.txt\")\n"
   ]
  },
  {
   "cell_type": "code",
   "execution_count": 3,
   "metadata": {},
   "outputs": [
    {
     "ename": "TypeError",
     "evalue": "'NoneType' object is not subscriptable",
     "output_type": "error",
     "traceback": [
      "\u001b[0;31m---------------------------------------------------------------------------\u001b[0m",
      "\u001b[0;31mTypeError\u001b[0m                                 Traceback (most recent call last)",
      "\u001b[0;32m<ipython-input-3-e22545311702>\u001b[0m in \u001b[0;36m<module>\u001b[0;34m\u001b[0m\n\u001b[1;32m      1\u001b[0m \u001b[0;31m# get our DB connection\u001b[0m\u001b[0;34m\u001b[0m\u001b[0;34m\u001b[0m\u001b[0;34m\u001b[0m\u001b[0m\n\u001b[0;32m----> 2\u001b[0;31m engine = sqla.create_engine('postgresql://{}:{}@{}:{}/{}'.format(database_config['username'],\n\u001b[0m\u001b[1;32m      3\u001b[0m                                                                      \u001b[0mdatabase_config\u001b[0m\u001b[0;34m[\u001b[0m\u001b[0;34m'password'\u001b[0m\u001b[0;34m]\u001b[0m\u001b[0;34m,\u001b[0m\u001b[0;34m\u001b[0m\u001b[0;34m\u001b[0m\u001b[0m\n\u001b[1;32m      4\u001b[0m                                                                      \u001b[0mdatabase_config\u001b[0m\u001b[0;34m[\u001b[0m\u001b[0;34m'hostname'\u001b[0m\u001b[0;34m]\u001b[0m\u001b[0;34m,\u001b[0m\u001b[0;34m\u001b[0m\u001b[0;34m\u001b[0m\u001b[0m\n\u001b[1;32m      5\u001b[0m                                                                      \u001b[0mdatabase_config\u001b[0m\u001b[0;34m[\u001b[0m\u001b[0;34m'port'\u001b[0m\u001b[0;34m]\u001b[0m\u001b[0;34m,\u001b[0m\u001b[0;34m\u001b[0m\u001b[0;34m\u001b[0m\u001b[0m\n",
      "\u001b[0;31mTypeError\u001b[0m: 'NoneType' object is not subscriptable"
     ]
    }
   ],
   "source": [
    "# get our DB connection\n",
    "engine = sqla.create_engine('postgresql://{}:{}@{}:{}/{}'.format(database_config['username'],\n",
    "                                                                     database_config['password'],\n",
    "                                                                     database_config['hostname'],\n",
    "                                                                     database_config['port'],\n",
    "                                                                     database_config['database']\n",
    "                                                                     ))\n"
   ]
  },
  {
   "cell_type": "code",
   "execution_count": null,
   "metadata": {},
   "outputs": [],
   "source": [
    "# dates acquired from http://mis.ercot.com/misapp/GetReports.do?reportTypeId=13037&reportTitle=Planned%20Service%20Four%20Coincident%20Peak%20Calculations&showHTMLView=&mimicKey\n",
    "\n",
    "event_start_dates = ['2019-06-19 17:00:00-05', '2019-07-30 16:30:00-05', '2019-08-12 17:00:00-05', '2019-09-06 16:45:00-05',\n",
    "               '2018-06-27 17:00:00-05', '2018-07-19 17:00:00-05', '2018-08-23 16:45:00-05', '2018-09-19 16:30:00-05',\n",
    "               '2017-06-23 16:45:00-05', '2017-07-28 17:00:00-05', '2017-08-16 17:00:00-05', '2017-09-20 16:45:00-05',\n",
    "               '2016-06-15 17:00:00-05', '2016-07-14 16:00:00-05', '2016-08-11 16:30:00-05', '2016-09-19 16:16:00-05'\n",
    "              ]\n",
    "event_end_dates = ['2019-06-19 17:15:00-05', '2019-07-30 16:45:00-05', '2019-08-12 17:15:00-05', '2019-09-06 17:00:00-05',\n",
    "               '2018-06-27 17:15:00-05', '2018-07-19 17:15:00-05', '2018-08-23 17:00:00-05', '2018-09-19 16:45:00-05',\n",
    "               '2017-06-23 17:00:00-05', '2017-07-28 17:15:00-05', '2017-08-16 17:15:00-05', '2017-09-20 17:00:00-05',\n",
    "               '2016-06-15 17:15:00-05', '2016-07-14 16:15:00-05', '2016-08-11 16:45:00-05', '2016-09-19 16:31:00-05']"
   ]
  },
  {
   "cell_type": "code",
   "execution_count": null,
   "metadata": {},
   "outputs": [],
   "source": [
    "# dataids, pv direction, amount of PV of solar homes\n",
    "query = \"\"\"\n",
    "select dataid, pv, pv_panel_direction, total_amount_of_pv, amount_of_west_facing_pv, amount_of_south_facing_pv\n",
    "from other_datasets.metadata\n",
    "where pv is not null\n",
    "and total_amount_of_pv is not null\n",
    "and grid is not null \n",
    "and solar is not null\n",
    "and pv_panel_direction in ('South', 'West')\n",
    "and egauge_1min_min_time < '2016-09-19'\n",
    "and egauge_1min_max_time > '2019-06-19'\n",
    "\"\"\"\n",
    "\n",
    "# create a dataframe with the data from the sql query\n",
    "df = pd.read_sql_query(sqla.text(query), engine)\n",
    "df"
   ]
  },
  {
   "cell_type": "code",
   "execution_count": null,
   "metadata": {},
   "outputs": [],
   "source": [
    "# grab dataids and convert them to a string to put into the SQL query\n",
    "dataids_list = df['dataid'].tolist()\n",
    "dataids_list\n",
    "dataids_str = ','.join(list(map(str, dataids_list)))\n",
    "dataids_str"
   ]
  },
  {
   "cell_type": "code",
   "execution_count": null,
   "metadata": {},
   "outputs": [],
   "source": [
    "# calculate usage grid minus solar (which is actually grid + solar because solar is negative use)\n",
    "# \n",
    "query_2 = \"\"\"\n",
    "select dataid, localminute, solar, grid from electricity.eg_realpower_1min \n",
    "where localminute >= '2019-06-19 17:00:00-05' and localminute <= '2019-06-19 17:15:00-05'\n",
    "and dataid in \"\"\"\n",
    "\n",
    "query_2 = query_2 + \"({})\".format(dataids_str)\n",
    "print(query_2)\n",
    "\n",
    "# create a dataframe with the data from the sql query\n",
    "df2 = pd.read_sql_query(sqla.text(query_2), engine)\n",
    "\n",
    "# Calculate the difference and add is as a new column\n",
    "df2['solar+grid'] = df2.apply(lambda row: row.solar + row.grid, axis=1)\n",
    "df2.head(15)"
   ]
  },
  {
   "cell_type": "code",
   "execution_count": null,
   "metadata": {},
   "outputs": [],
   "source": [
    "# group by dataid and average(?) the values\n",
    "grouped = df2.groupby(['dataid']).mean()\n",
    "grouped"
   ]
  },
  {
   "cell_type": "code",
   "execution_count": null,
   "metadata": {},
   "outputs": [],
   "source": [
    "# let's bring in the metadata on the dataids\n",
    "joined = pd.merge(grouped, df, on='dataid')\n",
    "joined"
   ]
  },
  {
   "cell_type": "code",
   "execution_count": null,
   "metadata": {},
   "outputs": [],
   "source": [
    "west_vs_south = joined.groupby(['pv_panel_direction']).mean()\n",
    "west_vs_south"
   ]
  },
  {
   "cell_type": "code",
   "execution_count": null,
   "metadata": {},
   "outputs": [],
   "source": []
  }
 ],
 "metadata": {
  "kernelspec": {
   "display_name": "Python 3",
   "language": "python",
   "name": "python3"
  },
  "language_info": {
   "codemirror_mode": {
    "name": "ipython",
    "version": 3
   },
   "file_extension": ".py",
   "mimetype": "text/x-python",
   "name": "python",
   "nbconvert_exporter": "python",
   "pygments_lexer": "ipython3",
   "version": "3.7.3"
  }
 },
 "nbformat": 4,
 "nbformat_minor": 4
}
