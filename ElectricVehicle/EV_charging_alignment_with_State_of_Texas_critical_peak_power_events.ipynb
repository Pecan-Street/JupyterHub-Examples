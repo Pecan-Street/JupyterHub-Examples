{
 "cells": [
  {
   "cell_type": "markdown",
   "metadata": {},
   "source": [
    "# Critical Peak Power Events Notebooks: Exploring how EV charging aligns with Texas's critical peak power events by homes\n",
    "\n",
    "<p>We will be using data from ERCOT's 4CP calculations to determine how residential homes EV charging habits align with those Peak power events.<br><br>\n",
    "ERCOT 4CP data is pulled from http://mis.ercot.com/misapp/GetReports.do?reportTypeId=13037&reportTitle=Planned%20Service%20Four%20Coincident%20Peak%20Calculations&showHTMLView=&mimicKey</p>"
   ]
  },
  {
   "cell_type": "code",
   "execution_count": null,
   "metadata": {},
   "outputs": [],
   "source": [
    "import pandas as pd\n",
    "import matplotlib.pyplot as plt\n",
    "import sys\n",
    "sys.executable  # shows you your path to the python you're using"
   ]
  },
  {
   "cell_type": "code",
   "execution_count": null,
   "metadata": {},
   "outputs": [],
   "source": [
    "%matplotlib inline"
   ]
  },
  {
   "cell_type": "markdown",
   "metadata": {},
   "source": [
    "## We've already extracted the data for you into a zipped CSV file and made it available on the JupyterHub server in the directory `/shared/JupyterHub-Examples-Data/ev/`\n",
    "\n",
    "If you wish to see how the data was extracted or to manipulate the queries for your own or work with the data from a live database connection, see the notebook named `Data-Extraction--EV_charging_alignment_with_State_of_Texas_critical_peak_power_events.ipynb` in this same directory.\n",
    "That notebook goes through the initial home selection and data extraction, then exports those files to a zipped csv file."
   ]
  },
  {
   "cell_type": "code",
   "execution_count": null,
   "metadata": {},
   "outputs": [],
   "source": [
    "# read in pre-prepared data\n",
    "df = pd.read_csv('/shared/JupyterHub-Examples-Data/ev/ev_charging_alignmnent_tx_4cp_events.zip', compression='zip')\n",
    "\n",
    "df.head(15)"
   ]
  },
  {
   "cell_type": "code",
   "execution_count": null,
   "metadata": {},
   "outputs": [],
   "source": [
    "#create new dataframe with columns dataid,car1 and date.\n",
    "ev_cp_data = pd.DataFrame(df, columns = ['dataid','car1', 'localminute'])\n",
    "ev_cp_data.head(10)"
   ]
  },
  {
   "cell_type": "code",
   "execution_count": null,
   "metadata": {},
   "outputs": [],
   "source": [
    "#group data by dataid and date and take average ofcar1. \n",
    "#This gives us avaerage ev usage for each home for each CP event day.\n",
    "ev_cp_data_grouped = ev_cp_data.groupby(['localminute','dataid']).mean()\n",
    "reset_ev_cp_data_grouped = ev_cp_data_grouped.reset_index()\n",
    "reset_ev_cp_data_grouped.head(10)"
   ]
  },
  {
   "cell_type": "code",
   "execution_count": null,
   "metadata": {
    "scrolled": true
   },
   "outputs": [],
   "source": [
    "#filtering data only for those interval when CAR1 is charging..\n",
    "ev_on = reset_ev_cp_data_grouped[reset_ev_cp_data_grouped['car1'] > 0.1]\n",
    "ev_on = (ev_on['localminute'].value_counts()/50)*100\n",
    "print ('Minimum percentage: {}%. Maximum percentage: {}%'.format(ev_on.min(), ev_on.max()))"
   ]
  },
  {
   "cell_type": "markdown",
   "metadata": {},
   "source": [
    "# Observations:\n",
    "\n",
    "From the above results we can conclude that at least 2% of homes were charging an electric vehicle for each CP event from 2016-2019."
   ]
  }
 ],
 "metadata": {
  "kernelspec": {
   "display_name": "Python 3",
   "language": "python",
   "name": "python3"
  },
  "language_info": {
   "codemirror_mode": {
    "name": "ipython",
    "version": 3
   },
   "file_extension": ".py",
   "mimetype": "text/x-python",
   "name": "python",
   "nbconvert_exporter": "python",
   "pygments_lexer": "ipython3",
   "version": "3.8.5"
  }
 },
 "nbformat": 4,
 "nbformat_minor": 4
}
