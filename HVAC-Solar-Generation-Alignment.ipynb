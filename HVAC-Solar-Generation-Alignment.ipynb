{
 "cells": [
  {
   "cell_type": "markdown",
   "metadata": {},
   "source": [
    "##This notebook explores how solar generation aligns with in-home HVAC use and what percent of the HVAC energy load is powered by the home’s rooftop solar over each season for one year"
   ]
  },
  {
   "cell_type": "code",
   "execution_count": null,
   "metadata": {},
   "outputs": [],
   "source": [
    "#import packages\n",
    "import pandas as pd\n",
    "import matplotlib.pyplot as plt\n",
    "import psycopg2\n",
    "import sqlalchemy as sqla\n",
    "import os\n",
    "from config.read_config import get_database_config\n",
    "import numpy as np\n",
    "import sys\n",
    "%matplotlib inline\n",
    "sys.executable  # shows you your path to the python you're using"
   ]
  },
  {
   "cell_type": "code",
   "execution_count": null,
   "metadata": {},
   "outputs": [],
   "source": [
    "#Read pre-processed data for June 2018 through August 2018\n",
    "summer_df = pd.read_csv('/shared/hvac/summer.csv.gz',compression='gzip')"
   ]
  },
  {
   "cell_type": "code",
   "execution_count": null,
   "metadata": {},
   "outputs": [],
   "source": [
    "#data analysis for summer\n",
    "\n",
    "#replace null with 0's \n",
    "summer_df = summer_df.fillna(0)\n",
    "\n",
    "#create new column hvac.\n",
    "summer_df['hvac'] = summer_df['air1'] + summer_df['air2'] + summer_df['furnace1'] + summer_df['furnace2']\n",
    "\n",
    "# convert localminute to pandas datetime type\n",
    "summer_df['datetime'] = pd.to_datetime(summer_df['localminute'])\n",
    "\n",
    "summer_df = summer_df.set_index('datetime')\n",
    "\n",
    "#create hour column. We will be calculating average hourly load for summer.\n",
    "summer_df['hr'] = summer_df.index.hour\n",
    "\n",
    "#create new dataframes with only solar, hvac and hour column\n",
    "summer_df_new = pd.DataFrame(summer_df, columns = ['solar', 'hvac','hr'])\n",
    "\n",
    "#group data based on hour and take avg\n",
    "summer_df_grouped = summer_df_new.groupby(['hr']).mean()\n",
    "plot_summer = summer_df_grouped.reset_index()\n",
    "\n"
   ]
  },
  {
   "cell_type": "code",
   "execution_count": null,
   "metadata": {},
   "outputs": [],
   "source": [
    "#plot summer\n",
    "plt.figure(figsize=(20,10))\n",
    "plt.plot(plot_summer['hr'],plot_summer['hvac'],label=\"hvac\")\n",
    "plt.plot(plot_summer['hr'],plot_summer['solar'],label=\"solar\")\n",
    "plt.xticks(np.arange(0, 24, 1.0))\n",
    "plt.xlabel('hour')\n",
    "plt.legend()\n",
    "\n",
    "plt.show()"
   ]
  },
  {
   "cell_type": "code",
   "execution_count": null,
   "metadata": {},
   "outputs": [],
   "source": [
    "#Total hvac usage powered by solar in summer\n",
    "total_hvac_summer = summer_df_new['hvac'].sum()\n",
    "solar_hvac_summer = summer_df_new.loc[summer_df_new['hvac'] < summer_df_new['solar'], 'hvac'].sum()\n",
    "\n",
    "hvac_powered_by_solar_summer = (solar_hvac_summer/total_hvac_summer)*100\n",
    "hvac_powered_by_solar_summer"
   ]
  },
  {
   "cell_type": "markdown",
   "metadata": {},
   "source": [
    "From above results we can see that 18% of HVAC energy load in summer is powered by the home’s rooftop solar."
   ]
  },
  {
   "cell_type": "code",
   "execution_count": null,
   "metadata": {},
   "outputs": [],
   "source": [
    "#Read pre-processed data for Sep 2018 through Nov 2018\n",
    "fall_df = pd.read_csv('/shared/hvac/fall.csv.gz',compression='gzip')"
   ]
  },
  {
   "cell_type": "code",
   "execution_count": null,
   "metadata": {},
   "outputs": [],
   "source": [
    "#data analysis for fall\n",
    "\n",
    "#replace null with 0's \n",
    "fall_df = fall_df.fillna(0)\n",
    "\n",
    "#create new column hvac.\n",
    "fall_df['hvac'] = fall_df['air1'] + fall_df['air2'] + fall_df['furnace1'] + fall_df['furnace2']\n",
    "\n",
    "# convert localminute to pandas datetime type\n",
    "fall_df['datetime'] = pd.to_datetime(fall_df['localminute'])\n",
    "\n",
    "fall_df = fall_df.set_index('datetime')\n",
    "\n",
    "#create hour column. We will be calculating average hourly load for fall.\n",
    "fall_df['hr'] = fall_df.index.hour\n",
    "\n",
    "#create new dataframes with only solar, hvac and hour column\n",
    "fall_df_new = pd.DataFrame(fall_df, columns = ['solar', 'hvac','hr'])\n",
    "\n",
    "#group data based on hour and take avg\n",
    "fall_df_grouped = fall_df_new.groupby(['hr']).mean()\n",
    "plot_fall = fall_df_grouped.reset_index()\n",
    "\n",
    "\n"
   ]
  },
  {
   "cell_type": "code",
   "execution_count": null,
   "metadata": {},
   "outputs": [],
   "source": [
    "#plot fall\n",
    "plt.figure(figsize=(20,10))\n",
    "plt.plot(plot_fall['hr'],plot_fall['hvac'],label=\"hvac\")\n",
    "plt.plot(plot_fall['hr'],plot_fall['solar'],label=\"solar\")\n",
    "plt.xticks(np.arange(0, 24, 1.0))\n",
    "plt.xlabel('hour')\n",
    "plt.legend()\n",
    "\n",
    "plt.show()\n"
   ]
  },
  {
   "cell_type": "code",
   "execution_count": null,
   "metadata": {},
   "outputs": [],
   "source": [
    "#Total hvac usage powered by PV system in fall\n",
    "total_hvac_fall = fall_df_new['hvac'].sum()\n",
    "solar_hvac_fall = fall_df_new.loc[fall_df_new['hvac'] < fall_df_new['solar'], 'hvac'].sum()\n",
    "\n",
    "hvac_powered_by_solar_fall = (solar_hvac_fall/total_hvac_fall)*100\n",
    "hvac_powered_by_solar_fall"
   ]
  },
  {
   "cell_type": "markdown",
   "metadata": {},
   "source": [
    "14% of HVAC energy load in Fall is powered by the home’s rooftop solar."
   ]
  },
  {
   "cell_type": "code",
   "execution_count": null,
   "metadata": {},
   "outputs": [],
   "source": [
    "#Read pre-processed data for march 2018 through may 2018\n",
    "spring_df = pd.read_csv('/shared/hvac/spring.csv.gz',compression='gzip')"
   ]
  },
  {
   "cell_type": "code",
   "execution_count": null,
   "metadata": {},
   "outputs": [],
   "source": [
    "#data analysis for spring\n",
    "\n",
    "#replace null with 0's \n",
    "spring_df = spring_df.fillna(0)\n",
    "\n",
    "#create new column hvac.\n",
    "spring_df['hvac'] = spring_df['air1'] + spring_df['air2'] + spring_df['furnace1'] + spring_df['furnace2']\n",
    "\n",
    "# convert localminute to pandas datetime type\n",
    "spring_df['datetime'] = pd.to_datetime(spring_df['localminute'])\n",
    "\n",
    "spring_df = spring_df.set_index('datetime')\n",
    "\n",
    "#create hour column. We will be calculating average hourly load for spring.\n",
    "spring_df['hr'] = spring_df.index.hour\n",
    "\n",
    "#create new dataframes with only solar, hvac and hour column\n",
    "spring_df_new = pd.DataFrame(spring_df, columns = ['solar', 'hvac','hr'])\n",
    "\n",
    "#group data based on hour and take avg\n",
    "spring_df_grouped = spring_df_new.groupby(['hr']).mean()\n",
    "plot_spring = spring_df_grouped.reset_index()"
   ]
  },
  {
   "cell_type": "code",
   "execution_count": null,
   "metadata": {},
   "outputs": [],
   "source": [
    "#plot spring\n",
    "plt.figure(figsize=(20,10))\n",
    "plt.plot(plot_spring['hr'],plot_spring['hvac'],label=\"hvac\")\n",
    "plt.plot(plot_spring['hr'],plot_spring['solar'],label=\"solar\")\n",
    "plt.xticks(np.arange(0, 24, 1.0))\n",
    "plt.xlabel('hour')\n",
    "plt.legend()\n",
    "\n",
    "plt.show()"
   ]
  },
  {
   "cell_type": "code",
   "execution_count": null,
   "metadata": {},
   "outputs": [],
   "source": [
    "#Total hvac usage powered by PV system in spring\n",
    "total_hvac_spring = spring_df_new['hvac'].sum()\n",
    "solar_hvac_spring = spring_df_new.loc[spring_df_new['hvac'] < spring_df_new['solar'], 'hvac'].sum()\n",
    "\n",
    "hvac_powered_by_solar_spring = (solar_hvac_spring/total_hvac_spring)*100\n",
    "hvac_powered_by_solar_spring"
   ]
  },
  {
   "cell_type": "markdown",
   "metadata": {},
   "source": [
    "21% of HVAC energy load in spring is powered by the home’s rooftop solar. \n",
    "This is also the highest among all four seasons."
   ]
  },
  {
   "cell_type": "code",
   "execution_count": null,
   "metadata": {},
   "outputs": [],
   "source": [
    "#Read pre-processed data for dec 2018 through feb 2019\n",
    "winter_df = pd.read_csv('/shared/hvac/winter.csv.gz',compression='gzip')"
   ]
  },
  {
   "cell_type": "code",
   "execution_count": null,
   "metadata": {},
   "outputs": [],
   "source": [
    "#data analysis for winter\n",
    "\n",
    "#replace null with 0's \n",
    "winter_df = winter_df.fillna(0)\n",
    "\n",
    "#create new column hvac.\n",
    "winter_df['hvac'] = winter_df['air1'] + winter_df['air2'] + winter_df['furnace1'] + winter_df['furnace2']\n",
    "\n",
    "# convert localminute to pandas datetime type\n",
    "winter_df['datetime'] = pd.to_datetime(winter_df['localminute'])\n",
    "\n",
    "winter_df = winter_df.set_index('datetime')\n",
    "\n",
    "#create hour column. We will be calculating average hourly load for winter.\n",
    "winter_df['hr'] = winter_df.index.hour\n",
    "\n",
    "#create new dataframes with only solar, hvac and hour column\n",
    "winter_df_new = pd.DataFrame(winter_df, columns = ['solar', 'hvac','hr'])\n",
    "\n",
    "#group data based on hour and take avg\n",
    "winter_df_grouped = winter_df_new.groupby(['hr']).mean()\n",
    "plot_winter = winter_df_grouped.reset_index()"
   ]
  },
  {
   "cell_type": "code",
   "execution_count": null,
   "metadata": {},
   "outputs": [],
   "source": [
    "#plot winter\n",
    "plt.figure(figsize=(20,10))\n",
    "plt.plot(plot_winter['hr'],plot_winter['hvac'],label=\"hvac\")\n",
    "plt.plot(plot_winter['hr'],plot_winter['solar'],label=\"solar\")\n",
    "plt.xticks(np.arange(0, 24, 1.0))\n",
    "plt.xlabel('hour')\n",
    "plt.legend()\n",
    "\n",
    "plt.show()"
   ]
  },
  {
   "cell_type": "code",
   "execution_count": null,
   "metadata": {},
   "outputs": [],
   "source": [
    "#Total hvac usage pwered by PV system in winter\n",
    "total_hvac_winter = winter_df_new['hvac'].sum()\n",
    "solar_hvac_winter = winter_df_new.loc[winter_df_new['hvac'] < winter_df_new['solar'], 'hvac'].sum()\n",
    "\n",
    "hvac_powered_by_solar_winter = (solar_hvac_winter/total_hvac_winter)*100\n",
    "hvac_powered_by_solar_winter"
   ]
  },
  {
   "cell_type": "markdown",
   "metadata": {},
   "source": [
    "From above season charts we can see that solar and home's HVAC usage peaks at different times except in winter. \n",
    "\n",
    "Solar peaks between 12PM-14PM while HVAC usage increases until 7PM and then starts to drop off. \n",
    "\n",
    "In winter average HVAC usage is almost constant with respect to solar generation.\n",
    "\n",
    "\n",
    "Also, Spring is the season when HVAC load is most powered by home’s PV system. \n",
    "This makes sense because during spring we get enough sunlight but HVAC system are not used as much."
   ]
  }
 ],
 "metadata": {
  "kernelspec": {
   "display_name": "Python 3",
   "language": "python",
   "name": "python3"
  },
  "language_info": {
   "codemirror_mode": {
    "name": "ipython",
    "version": 3
   },
   "file_extension": ".py",
   "mimetype": "text/x-python",
   "name": "python",
   "nbconvert_exporter": "python",
   "pygments_lexer": "ipython3",
   "version": "3.8.5"
  }
 },
 "nbformat": 4,
 "nbformat_minor": 4
}
