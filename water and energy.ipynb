{
 "cells": [
  {
   "cell_type": "code",
   "execution_count": null,
   "metadata": {},
   "outputs": [],
   "source": [
    "import pandas as pd\n",
    "import matplotlib.pyplot as plt\n",
    "import psycopg2\n",
    "import sqlalchemy as sqla\n",
    "import csv\n",
    "import os\n",
    "import numpy as np\n",
    "import sys\n",
    "%matplotlib inline\n",
    "sys.executable  # shows you your path to the python you're using"
   ]
  },
  {
   "cell_type": "code",
   "execution_count": null,
   "metadata": {},
   "outputs": [],
   "source": [
    "#Read processed Data. Blucube water data from dataport has been processed to calculate delta \n",
    "#water usage for each minute interval. Only those intervals have been considered where water usage > 0.\n",
    "data = pd.read_csv('/Users/esha/Downloads/elec_water_data.csv')\n",
    "homes_list = data.dataid.unique() \n",
    "homes_list"
   ]
  },
  {
   "cell_type": "code",
   "execution_count": null,
   "metadata": {},
   "outputs": [],
   "source": [
    "#Function to calculate average\n",
    "def Average(lst): \n",
    "    return sum(lst) / len(lst) "
   ]
  },
  {
   "cell_type": "code",
   "execution_count": null,
   "metadata": {},
   "outputs": [],
   "source": [
    "#Loop through list of homes and find correlation between water and electricity usage and also plot the datapoints\n",
    "homes_cor = []\n",
    "for home in homes_list:\n",
    "    data_to_process = data.loc[(data['dataid'] == home)]\n",
    "    x = data_to_process[\"water_use\"]\n",
    "    y = data_to_process[\"elec_use\"]\n",
    "    correlation = round(x.corr(y),3)\n",
    "    homes_cor.append(correlation)\n",
    "    print(str(home) + '->' + str(correlation))\n",
    "    plt.scatter(x, y)\n",
    "    plt.show()\n",
    "avg_cor = Average(homes_cor)   \n",
    "print(\"Average correlation for all homes - \",avg_cor)"
   ]
  },
  {
   "cell_type": "markdown",
   "metadata": {},
   "source": [
    "From above plots and calculated average correlation we can say that water and electricity \n",
    "usage is very less positively correlated."
   ]
  }
 ],
 "metadata": {
  "kernelspec": {
   "display_name": "Python 3",
   "language": "python",
   "name": "python3"
  },
  "language_info": {
   "codemirror_mode": {
    "name": "ipython",
    "version": 3
   },
   "file_extension": ".py",
   "mimetype": "text/x-python",
   "name": "python",
   "nbconvert_exporter": "python",
   "pygments_lexer": "ipython3",
   "version": "3.7.3"
  }
 },
 "nbformat": 4,
 "nbformat_minor": 4
}
