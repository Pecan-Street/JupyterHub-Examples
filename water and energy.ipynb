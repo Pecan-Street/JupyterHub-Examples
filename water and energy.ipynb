{
 "cells": [
  {
   "cell_type": "markdown",
   "metadata": {},
   "source": [
    "# Water and energy use correlation notebook:\n",
    "\n",
    "### Here we will explore whether there is a relationship between water use and electricity use in our home network.\n",
    "\n",
    "We've already exported the electricty and water data to a file in our JupyterHub's shared filesystem which is mounted in your home directory at `~/shared/`, our methodology for extracting the data is as follows:\n",
    "\n",
    "To find correlation between home's energy use and water use, Blucube water data from dataport (water_and_gas.blucube_water_data) and 1-minute interval energy (electricity.eg_realpower_1min) data was used. Blucube data consists of the cumulative device reading (in gallons), so the water usage has been calculated for each interval by subtracting current interval reading from previous interval. After calculating delta usage, only those time intervals with a delta greater than 0 were included in the dataset. This data has then been joined with energy data to find how much electricity was used in those same time intervals when water was used in a home.\n"
   ]
  },
  {
   "cell_type": "code",
   "execution_count": null,
   "metadata": {},
   "outputs": [],
   "source": [
    "import pandas as pd\n",
    "import matplotlib.pyplot as plt\n",
    "import csv\n",
    "import os\n",
    "import sys\n",
    "%matplotlib inline\n",
    "print(sys.version) # prints the python version\n",
    "print(sys.executable)  # prints the path to the python you're using"
   ]
  },
  {
   "cell_type": "code",
   "execution_count": null,
   "metadata": {},
   "outputs": [],
   "source": [
    "# Read processed Data. Blucube water data from dataport has been processed to calculate delta \n",
    "# water usage for each minute interval. Only those intervals have been considered where water usage > 0.\n",
    "data = pd.read_csv('~/shared/elec_water_data.csv')\n",
    "homes_list = data.dataid.unique() \n",
    "homes_list"
   ]
  },
  {
   "cell_type": "code",
   "execution_count": null,
   "metadata": {},
   "outputs": [],
   "source": [
    "# Loop through list of homes and find correlation between water and electricity usage and also plot the datapoints\n",
    "homes_cor = []\n",
    "for home in homes_list:\n",
    "    data_to_process = data.loc[(data['dataid'] == home)]\n",
    "    x = data_to_process[\"water_use\"]\n",
    "    y = data_to_process[\"elec_use\"]\n",
    "    correlation = round(x.corr(y),3)\n",
    "    homes_cor.append(correlation)\n",
    "    print(str(home) + ' -> ' + str(correlation))\n",
    "    plt.scatter(x, y, edgecolors='black')\n",
    "    plt.title('Correlation for home {}'.format(home))\n",
    "    plt.xlabel('Water Use')\n",
    "    plt.ylabel('Energy Use')\n",
    "    plt.show()"
   ]
  },
  {
   "cell_type": "code",
   "execution_count": null,
   "metadata": {},
   "outputs": [],
   "source": [
    "avg_cor = Average(homes_cor)   \n",
    "print(\"Average correlation for all homes - \", statistics.mean(homes_cor))"
   ]
  },
  {
   "cell_type": "markdown",
   "metadata": {},
   "source": [
    "## Conclusion:\n",
    "### From above plots and calculated average correlation we can say that water and electricity usage is *not* positively correlated."
   ]
  }
 ],
 "metadata": {
  "kernelspec": {
   "display_name": "Python 3",
   "language": "python",
   "name": "python3"
  },
  "language_info": {
   "codemirror_mode": {
    "name": "ipython",
    "version": 3
   },
   "file_extension": ".py",
   "mimetype": "text/x-python",
   "name": "python",
   "nbconvert_exporter": "python",
   "pygments_lexer": "ipython3",
   "version": "3.8.5"
  }
 },
 "nbformat": 4,
 "nbformat_minor": 4
}
