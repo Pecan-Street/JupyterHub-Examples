{
 "cells": [
  {
   "cell_type": "markdown",
   "metadata": {},
   "source": [
    "Here we are using water, gas and energy data and showing coincidence of use by pairing all three data sources.\n",
    "\n",
    "To prepare this graph; gas data(water_and_gas.gas_ert table), water data(water_and_gas.water_ert table) and energy data(electricity.eg_realpower_15min view) for year 2014, 2015 and 2016 have been converted into hourly data.\n",
    "\n",
    "All three datasets have been joined to find all hours showing coincidence of use in homes. This data has been exported to 'water_gas_energy.csv' file which is mounted in your home directory at ~/shared/ directory."
   ]
  },
  {
   "cell_type": "code",
   "execution_count": null,
   "metadata": {},
   "outputs": [],
   "source": [
    "import pandas as pd\n",
    "import matplotlib.pyplot as plt\n",
    "import numpy as np\n",
    "import csv\n",
    "import os\n",
    "import sys\n",
    "import statistics\n",
    "%matplotlib inline\n",
    "print(sys.version) # prints the python version\n",
    "print(sys.executable)  # prints the path to the python you're using"
   ]
  },
  {
   "cell_type": "code",
   "execution_count": null,
   "metadata": {},
   "outputs": [],
   "source": [
    "#Read pre-processed data \n",
    "df1 = pd.read_csv('/shared/water_gas_energy.csv')\n",
    "homes_list = df1.dataid.unique() \n",
    "homes_list"
   ]
  },
  {
   "cell_type": "code",
   "execution_count": null,
   "metadata": {},
   "outputs": [],
   "source": [
    "#sample data from data file\n",
    "df1.head()"
   ]
  },
  {
   "cell_type": "code",
   "execution_count": null,
   "metadata": {},
   "outputs": [],
   "source": [
    "#describe data\n",
    "df1.describe()"
   ]
  },
  {
   "cell_type": "code",
   "execution_count": null,
   "metadata": {},
   "outputs": [],
   "source": [
    "# group by dataid and month and take average of gasuse, wateruse and elecuse\n",
    "df1['datetime'] = pd.to_datetime(df1['hour'])\n",
    "df1 = df1.set_index('datetime')\n",
    "\n",
    "grouped = df1.groupby([pd.Grouper(freq='M'), 'dataid']).mean()\n",
    "grouped = grouped.reset_index()\n",
    "grouped"
   ]
  },
  {
   "cell_type": "code",
   "execution_count": null,
   "metadata": {},
   "outputs": [],
   "source": [
    "#find average use of water, gas and energy per hour per house, for each month\n",
    "grouped = grouped.drop(columns=['dataid'])\n",
    "df2 = grouped.groupby(['datetime']).mean()\n",
    "df2 = df2.reset_index()\n",
    "df2"
   ]
  },
  {
   "cell_type": "code",
   "execution_count": null,
   "metadata": {},
   "outputs": [],
   "source": [
    "#Plot above calculated data\n",
    "plt.figure(figsize=(20,10))\n",
    "plt.plot(df2['datetime'],df2['gasuse'],label=\"gas(ft3)\")\n",
    "plt.plot(df2['datetime'],df2['wateruse'],label=\"water(gallons)\")\n",
    "plt.plot(df2['datetime'],df2['elecuse'],label=\"energy(kWh)\")\n",
    "#plt.xticks(np.arange(min(df['datetime']), max(df['datetime'])+1, 3))\n",
    "plt.xlabel('month')\n",
    "plt.legend()\n",
    "\n",
    "plt.show()\n",
    "\n"
   ]
  }
 ],
 "metadata": {
  "kernelspec": {
   "display_name": "Python 3",
   "language": "python",
   "name": "python3"
  },
  "language_info": {
   "codemirror_mode": {
    "name": "ipython",
    "version": 3
   },
   "file_extension": ".py",
   "mimetype": "text/x-python",
   "name": "python",
   "nbconvert_exporter": "python",
   "pygments_lexer": "ipython3",
   "version": "3.7.3"
  }
 },
 "nbformat": 4,
 "nbformat_minor": 4
}
