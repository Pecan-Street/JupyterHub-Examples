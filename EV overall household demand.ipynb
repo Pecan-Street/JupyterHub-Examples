{
 "cells": [
  {
   "cell_type": "markdown",
   "metadata": {},
   "source": [
    "# Overall Energy Demand Notebook: Exploring how a homes overall energy demand is attributable to at-home EV charging\n",
    "\n",
    "<p>We will be using Pecan Street Inc. data from dataport to calculate how much overall energy demand is used in homes by electric vehicle charging.<br><br>\n",
    "Pecans Streets data can be obtained by applying for a dataport account at https://www.dataport.pecanstreet.org.</p>"
   ]
  },
  {
   "cell_type": "code",
   "execution_count": 15,
   "metadata": {},
   "outputs": [
    {
     "data": {
      "text/plain": [
       "'/usr/bin/python3.8'"
      ]
     },
     "execution_count": 15,
     "metadata": {},
     "output_type": "execute_result"
    }
   ],
   "source": [
    "#import packages\n",
    "import pandas as pd\n",
    "import matplotlib.pyplot as plt\n",
    "import psycopg2\n",
    "import sqlalchemy as sqla\n",
    "import os\n",
    "from config.read_config import get_database_config\n",
    "import numpy as np\n",
    "import sys\n",
    "%matplotlib inline\n",
    "sys.executable  # shows you your path to the python you're using"
   ]
  },
  {
   "cell_type": "code",
   "execution_count": 16,
   "metadata": {},
   "outputs": [],
   "source": [
    "# read in db credentials from config/config.txt\n",
    "# * make sure you add those to the config/config.txt file! *\n",
    "\n",
    "database_config = get_database_config(\"./config/config.txt\")"
   ]
  },
  {
   "cell_type": "code",
   "execution_count": 17,
   "metadata": {},
   "outputs": [],
   "source": [
    "# get our DB connection\n",
    "engine = sqla.create_engine('postgresql://{}:{}@{}:{}/{}'.format(database_config['username'],\n",
    "                                                                     database_config['password'],\n",
    "                                                                     database_config['hostname'],\n",
    "                                                                     database_config['port'],\n",
    "                                                                     database_config['database']\n",
    "                                                                     ))"
   ]
  },
  {
   "cell_type": "code",
   "execution_count": 18,
   "metadata": {},
   "outputs": [],
   "source": [
    "#Select a list of Texas homes from dataport metadata having CAR and also has data for year 2018.\n",
    "query = \"\"\"select distinct dataid from other_datasets.metadata \n",
    "                                          where car1='yes' and grid='yes'\n",
    "                                          and egauge_1min_min_time < '2018-01-01' \n",
    "                                          and egauge_1min_max_time > '2019-01-01'\n",
    "                                          and state='Texas'\n",
    "                                          and (egauge_1min_data_availability like '100%' \n",
    "                                               or \n",
    "                                               egauge_1min_data_availability like '99%');\n",
    "         \"\"\"\n",
    "\n",
    "df = pd.read_sql_query(sqla.text(query), engine)"
   ]
  },
  {
   "cell_type": "code",
   "execution_count": 19,
   "metadata": {},
   "outputs": [
    {
     "name": "stdout",
     "output_type": "stream",
     "text": [
      "28 dataids selected listed here:\n"
     ]
    },
    {
     "data": {
      "text/plain": [
       "[114,\n",
       " 379,\n",
       " 1169,\n",
       " 1202,\n",
       " 1354,\n",
       " 2814,\n",
       " 3368,\n",
       " 3829,\n",
       " 3967,\n",
       " 5109,\n",
       " 5357,\n",
       " 5450,\n",
       " 5749,\n",
       " 6139,\n",
       " 6248,\n",
       " 6691,\n",
       " 7024,\n",
       " 7850,\n",
       " 7989,\n",
       " 8142,\n",
       " 8645,\n",
       " 8847,\n",
       " 8857,\n",
       " 9484,\n",
       " 9609,\n",
       " 9647,\n",
       " 9776,\n",
       " 9932]"
      ]
     },
     "execution_count": 19,
     "metadata": {},
     "output_type": "execute_result"
    }
   ],
   "source": [
    "# grab dataids and convert them to a string to put into the SQL query\n",
    "dataids_list = df['dataid'].tolist()\n",
    "print(\"{} dataids selected listed here:\".format(len(dataids_list)))\n",
    "dataids_str = ','.join(list(map(str, dataids_list)))\n",
    "dataids_str\n",
    "dataids_list"
   ]
  },
  {
   "cell_type": "code",
   "execution_count": 20,
   "metadata": {},
   "outputs": [],
   "source": [
    "#Check data completeness for dataids selected from metadata above.\n",
    "\n",
    "query2 = \"\"\"select dataid,count(*) total_rec from electricity.eg_realpower_1min \n",
    "            where dataid in ({})\"\"\".format(dataids_str)\n",
    "query2 = query2 + \"\"\" and localminute >= '2018-01-01' and localminute < '2019-01-01' group by 1\"\"\"\n",
    "\n",
    "df2 = pd.read_sql_query(sqla.text(query2), engine)"
   ]
  },
  {
   "cell_type": "code",
   "execution_count": 21,
   "metadata": {},
   "outputs": [
    {
     "data": {
      "text/plain": [
       "27"
      ]
     },
     "execution_count": 21,
     "metadata": {},
     "output_type": "execute_result"
    }
   ],
   "source": [
    "#Select homes with atleast 99% data availability for year 2018.\n",
    "df2['perc'] = (df2['total_rec']/525600)*100\n",
    "final_dataids = df2[df2['perc'] >= 99]\n",
    "final_dataids['dataid'].count()"
   ]
  },
  {
   "cell_type": "code",
   "execution_count": 22,
   "metadata": {},
   "outputs": [
    {
     "name": "stdout",
     "output_type": "stream",
     "text": [
      "27 dataids selected listed here:\n"
     ]
    },
    {
     "data": {
      "text/plain": [
       "[114,\n",
       " 379,\n",
       " 1169,\n",
       " 1202,\n",
       " 1354,\n",
       " 2814,\n",
       " 3368,\n",
       " 3829,\n",
       " 3967,\n",
       " 5109,\n",
       " 5357,\n",
       " 5450,\n",
       " 5749,\n",
       " 6139,\n",
       " 6248,\n",
       " 6691,\n",
       " 7024,\n",
       " 7850,\n",
       " 7989,\n",
       " 8142,\n",
       " 8645,\n",
       " 8847,\n",
       " 9484,\n",
       " 9609,\n",
       " 9647,\n",
       " 9776,\n",
       " 9932]"
      ]
     },
     "execution_count": 22,
     "metadata": {},
     "output_type": "execute_result"
    }
   ],
   "source": [
    "# Pull data for homes\n",
    "final_dataids_list = final_dataids['dataid'].tolist()\n",
    "print(\"{} dataids selected listed here:\".format(len(final_dataids_list)))\n",
    "final_dataids_str = ','.join(list(map(str, final_dataids_list)))\n",
    "final_dataids_str\n",
    "final_dataids_list"
   ]
  },
  {
   "cell_type": "code",
   "execution_count": 37,
   "metadata": {},
   "outputs": [],
   "source": [
    "\n",
    "data_pull = \"\"\"select localminute::timestamp,car1,grid,solar \n",
    "               from electricity.eg_realpower_1min \n",
    "               where localminute >= '2018-03-01' and localminute <  '2018-06-01' \"\"\"\n",
    "data_pull = data_pull + \"\"\"AND dataid in ({})\"\"\".format(final_dataids_str)\n",
    "\n",
    "data_df = pd.read_sql_query(sqla.text(data_pull), engine)"
   ]
  },
  {
   "cell_type": "code",
   "execution_count": 41,
   "metadata": {},
   "outputs": [
    {
     "data": {
      "text/html": [
       "<div>\n",
       "<style scoped>\n",
       "    .dataframe tbody tr th:only-of-type {\n",
       "        vertical-align: middle;\n",
       "    }\n",
       "\n",
       "    .dataframe tbody tr th {\n",
       "        vertical-align: top;\n",
       "    }\n",
       "\n",
       "    .dataframe thead th {\n",
       "        text-align: right;\n",
       "    }\n",
       "</style>\n",
       "<table border=\"1\" class=\"dataframe\">\n",
       "  <thead>\n",
       "    <tr style=\"text-align: right;\">\n",
       "      <th></th>\n",
       "      <th>grid</th>\n",
       "      <th>solar</th>\n",
       "      <th>car1</th>\n",
       "      <th>demand</th>\n",
       "    </tr>\n",
       "    <tr>\n",
       "      <th>day</th>\n",
       "      <th></th>\n",
       "      <th></th>\n",
       "      <th></th>\n",
       "      <th></th>\n",
       "    </tr>\n",
       "  </thead>\n",
       "  <tbody>\n",
       "    <tr>\n",
       "      <th>1</th>\n",
       "      <td>0.415982</td>\n",
       "      <td>0.591499</td>\n",
       "      <td>0.141586</td>\n",
       "      <td>14.053443</td>\n",
       "    </tr>\n",
       "    <tr>\n",
       "      <th>2</th>\n",
       "      <td>0.448659</td>\n",
       "      <td>0.611549</td>\n",
       "      <td>0.140052</td>\n",
       "      <td>13.209873</td>\n",
       "    </tr>\n",
       "    <tr>\n",
       "      <th>3</th>\n",
       "      <td>0.644773</td>\n",
       "      <td>0.392469</td>\n",
       "      <td>0.134011</td>\n",
       "      <td>12.919935</td>\n",
       "    </tr>\n",
       "    <tr>\n",
       "      <th>4</th>\n",
       "      <td>0.492557</td>\n",
       "      <td>0.496827</td>\n",
       "      <td>0.156142</td>\n",
       "      <td>15.781713</td>\n",
       "    </tr>\n",
       "    <tr>\n",
       "      <th>5</th>\n",
       "      <td>0.242824</td>\n",
       "      <td>0.783674</td>\n",
       "      <td>0.154365</td>\n",
       "      <td>15.038017</td>\n",
       "    </tr>\n",
       "    <tr>\n",
       "      <th>6</th>\n",
       "      <td>0.233964</td>\n",
       "      <td>0.898189</td>\n",
       "      <td>0.163874</td>\n",
       "      <td>14.474548</td>\n",
       "    </tr>\n",
       "    <tr>\n",
       "      <th>7</th>\n",
       "      <td>0.308313</td>\n",
       "      <td>0.795541</td>\n",
       "      <td>0.141104</td>\n",
       "      <td>12.782870</td>\n",
       "    </tr>\n",
       "    <tr>\n",
       "      <th>8</th>\n",
       "      <td>0.272400</td>\n",
       "      <td>0.902010</td>\n",
       "      <td>0.156608</td>\n",
       "      <td>13.335014</td>\n",
       "    </tr>\n",
       "    <tr>\n",
       "      <th>9</th>\n",
       "      <td>0.434916</td>\n",
       "      <td>0.615579</td>\n",
       "      <td>0.144223</td>\n",
       "      <td>13.729029</td>\n",
       "    </tr>\n",
       "    <tr>\n",
       "      <th>10</th>\n",
       "      <td>0.058330</td>\n",
       "      <td>1.044514</td>\n",
       "      <td>0.128043</td>\n",
       "      <td>11.610243</td>\n",
       "    </tr>\n",
       "  </tbody>\n",
       "</table>\n",
       "</div>"
      ],
      "text/plain": [
       "         grid     solar      car1     demand\n",
       "day                                         \n",
       "1    0.415982  0.591499  0.141586  14.053443\n",
       "2    0.448659  0.611549  0.140052  13.209873\n",
       "3    0.644773  0.392469  0.134011  12.919935\n",
       "4    0.492557  0.496827  0.156142  15.781713\n",
       "5    0.242824  0.783674  0.154365  15.038017\n",
       "6    0.233964  0.898189  0.163874  14.474548\n",
       "7    0.308313  0.795541  0.141104  12.782870\n",
       "8    0.272400  0.902010  0.156608  13.335014\n",
       "9    0.434916  0.615579  0.144223  13.729029\n",
       "10   0.058330  1.044514  0.128043  11.610243"
      ]
     },
     "execution_count": 41,
     "metadata": {},
     "output_type": "execute_result"
    }
   ],
   "source": [
    "#replace null with 0's\n",
    "day_df = data_df.fillna(0)\n",
    "# convert localminute to pandas daytime type\n",
    "day_df['datetime'] = pd.to_datetime(day_df['localminute'])\n",
    "\n",
    "day_df = day_df.set_index('datetime')\n",
    "\n",
    "#create day column\n",
    "day_df['day'] = day_df.index.day\n",
    "\n",
    "#create new dataframes with grid, solar, car1, and day column\n",
    "day_df_new = pd.DataFrame(day_df, columns = ['grid', 'solar', 'car1', 'day'])\n",
    "\n",
    "# group data based on day and get avg\n",
    "day_df_grouped = day_df_new.groupby(['day']).mean()\n",
    "\n",
    "day_df_grouped['demand'] = day_df_grouped['car1'] / (day_df_grouped['grid']+ day_df_grouped['solar']) * 100\n",
    "\n",
    "day_df_grouped.head(10)\n"
   ]
  },
  {
   "cell_type": "code",
   "execution_count": 42,
   "metadata": {},
   "outputs": [
    {
     "name": "stdout",
     "output_type": "stream",
     "text": [
      "12.099395212185625\n"
     ]
    }
   ],
   "source": [
    "print(day_df_grouped['demand'].mean())"
   ]
  },
  {
   "cell_type": "code",
   "execution_count": 43,
   "metadata": {},
   "outputs": [
    {
     "name": "stderr",
     "output_type": "stream",
     "text": [
      "<ipython-input-43-8f61b09a3c12>:9: FutureWarning: weekofyear and week have been deprecated, please use DatetimeIndex.isocalendar().week instead, which returns a Series.  To exactly reproduce the behavior of week and weekofyear and return an Index, you may call pd.Int64Index(idx.isocalendar().week)\n",
      "  week_df['week'] = week_df.index.week\n"
     ]
    },
    {
     "data": {
      "text/html": [
       "<div>\n",
       "<style scoped>\n",
       "    .dataframe tbody tr th:only-of-type {\n",
       "        vertical-align: middle;\n",
       "    }\n",
       "\n",
       "    .dataframe tbody tr th {\n",
       "        vertical-align: top;\n",
       "    }\n",
       "\n",
       "    .dataframe thead th {\n",
       "        text-align: right;\n",
       "    }\n",
       "</style>\n",
       "<table border=\"1\" class=\"dataframe\">\n",
       "  <thead>\n",
       "    <tr style=\"text-align: right;\">\n",
       "      <th></th>\n",
       "      <th>grid</th>\n",
       "      <th>solar</th>\n",
       "      <th>car1</th>\n",
       "      <th>demand</th>\n",
       "    </tr>\n",
       "    <tr>\n",
       "      <th>week</th>\n",
       "      <th></th>\n",
       "      <th></th>\n",
       "      <th></th>\n",
       "      <th></th>\n",
       "    </tr>\n",
       "  </thead>\n",
       "  <tbody>\n",
       "    <tr>\n",
       "      <th>9</th>\n",
       "      <td>0.314949</td>\n",
       "      <td>0.618052</td>\n",
       "      <td>0.123255</td>\n",
       "      <td>13.210628</td>\n",
       "    </tr>\n",
       "    <tr>\n",
       "      <th>10</th>\n",
       "      <td>0.239347</td>\n",
       "      <td>0.745600</td>\n",
       "      <td>0.149813</td>\n",
       "      <td>15.210260</td>\n",
       "    </tr>\n",
       "    <tr>\n",
       "      <th>11</th>\n",
       "      <td>0.248457</td>\n",
       "      <td>0.805987</td>\n",
       "      <td>0.133309</td>\n",
       "      <td>12.642585</td>\n",
       "    </tr>\n",
       "    <tr>\n",
       "      <th>12</th>\n",
       "      <td>0.262556</td>\n",
       "      <td>0.748703</td>\n",
       "      <td>0.108095</td>\n",
       "      <td>10.689190</td>\n",
       "    </tr>\n",
       "    <tr>\n",
       "      <th>13</th>\n",
       "      <td>0.271283</td>\n",
       "      <td>0.725321</td>\n",
       "      <td>0.116681</td>\n",
       "      <td>11.707881</td>\n",
       "    </tr>\n",
       "    <tr>\n",
       "      <th>14</th>\n",
       "      <td>0.410976</td>\n",
       "      <td>0.613284</td>\n",
       "      <td>0.162334</td>\n",
       "      <td>15.848886</td>\n",
       "    </tr>\n",
       "    <tr>\n",
       "      <th>15</th>\n",
       "      <td>0.122479</td>\n",
       "      <td>0.876475</td>\n",
       "      <td>0.159171</td>\n",
       "      <td>15.933771</td>\n",
       "    </tr>\n",
       "    <tr>\n",
       "      <th>16</th>\n",
       "      <td>0.126625</td>\n",
       "      <td>0.876414</td>\n",
       "      <td>0.141265</td>\n",
       "      <td>14.083685</td>\n",
       "    </tr>\n",
       "    <tr>\n",
       "      <th>17</th>\n",
       "      <td>0.140430</td>\n",
       "      <td>0.965652</td>\n",
       "      <td>0.145467</td>\n",
       "      <td>13.151555</td>\n",
       "    </tr>\n",
       "    <tr>\n",
       "      <th>18</th>\n",
       "      <td>0.607403</td>\n",
       "      <td>0.538941</td>\n",
       "      <td>0.162962</td>\n",
       "      <td>14.215787</td>\n",
       "    </tr>\n",
       "  </tbody>\n",
       "</table>\n",
       "</div>"
      ],
      "text/plain": [
       "          grid     solar      car1     demand\n",
       "week                                         \n",
       "9     0.314949  0.618052  0.123255  13.210628\n",
       "10    0.239347  0.745600  0.149813  15.210260\n",
       "11    0.248457  0.805987  0.133309  12.642585\n",
       "12    0.262556  0.748703  0.108095  10.689190\n",
       "13    0.271283  0.725321  0.116681  11.707881\n",
       "14    0.410976  0.613284  0.162334  15.848886\n",
       "15    0.122479  0.876475  0.159171  15.933771\n",
       "16    0.126625  0.876414  0.141265  14.083685\n",
       "17    0.140430  0.965652  0.145467  13.151555\n",
       "18    0.607403  0.538941  0.162962  14.215787"
      ]
     },
     "execution_count": 43,
     "metadata": {},
     "output_type": "execute_result"
    }
   ],
   "source": [
    "#replace null with 0's\n",
    "week_df = data_df.fillna(0)\n",
    "# convert localminute to pandas daytime type\n",
    "week_df['datetime'] = pd.to_datetime(week_df['localminute'])\n",
    "\n",
    "week_df = week_df.set_index('datetime')\n",
    "\n",
    "#create day column\n",
    "week_df['week'] = week_df.index.week\n",
    "\n",
    "#create new dataframes with grid, car1, and week column\n",
    "week_df_new = pd.DataFrame(week_df, columns = ['grid', 'solar', 'car1', 'week'])\n",
    "\n",
    "# group data based on week and get avg\n",
    "week_df_grouped = week_df_new.groupby(['week']).mean()\n",
    "\n",
    "week_df_grouped['demand'] = week_df_grouped['car1'] / (week_df_grouped['grid']+week_df_grouped['solar']) * 100\n",
    "\n",
    "week_df_grouped.head(10)"
   ]
  },
  {
   "cell_type": "code",
   "execution_count": 45,
   "metadata": {},
   "outputs": [
    {
     "name": "stdout",
     "output_type": "stream",
     "text": [
      "12.362583361293526\n"
     ]
    }
   ],
   "source": [
    "print(week_df_grouped['demand'].mean())"
   ]
  },
  {
   "cell_type": "markdown",
   "metadata": {},
   "source": [
    "# Observations:\n",
    "As seen above daily and weekly overall demand of EV chargers stays pretty consistant. On average both daily and week demand is a little over 12%. At most demand peaks at about 16% and at min deman peaks at 10%."
   ]
  },
  {
   "cell_type": "code",
   "execution_count": null,
   "metadata": {},
   "outputs": [],
   "source": []
  }
 ],
 "metadata": {
  "kernelspec": {
   "display_name": "Python 3",
   "language": "python",
   "name": "python3"
  },
  "language_info": {
   "codemirror_mode": {
    "name": "ipython",
    "version": 3
   },
   "file_extension": ".py",
   "mimetype": "text/x-python",
   "name": "python",
   "nbconvert_exporter": "python",
   "pygments_lexer": "ipython3",
   "version": "3.8.5"
  }
 },
 "nbformat": 4,
 "nbformat_minor": 4
}
