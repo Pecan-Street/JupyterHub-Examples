{
 "cells": [
  {
   "cell_type": "markdown",
   "metadata": {},
   "source": [
    "# Overall Energy Demand Notebook: Exploring how a homes overall energy demand is attributable to at-home EV charging\n",
    "\n",
    "<p>We will be using Pecan Street Inc. data from dataport to calculate how much overall energy demand is used in homes by electric vehicle charging.<br><br>\n",
    "Pecans Streets data can be obtained by applying for a dataport account at https://www.dataport.pecanstreet.org.</p>"
   ]
  },
  {
   "cell_type": "code",
   "execution_count": null,
   "metadata": {},
   "outputs": [],
   "source": [
    "# import packages\n",
    "import pandas as pd\n",
    "import matplotlib.pyplot as plt\n",
    "import sys\n",
    "sys.executable  # shows you your path to the python you're using"
   ]
  },
  {
   "cell_type": "markdown",
   "metadata": {},
   "source": [
    "## We've already extracted the data for you into a zipped CSV file and made it available on the JupyterHub server in the file `/shared/JupyterHub-Examples-Data/ev/ev_overall_household_demand.zip`\n",
    "\n",
    "If you wish to see how the data was extracted or to manipulate the queries for your own or work with the data from a live database connection, see the notebook named `Data-Extraction--EV_overall_household_demand.ipynb` in this same directory.\n",
    "That notebook goes through the initial home selection and data extraction, then exports those files to a zipped csv file."
   ]
  },
  {
   "cell_type": "code",
   "execution_count": null,
   "metadata": {},
   "outputs": [],
   "source": [
    "# read in pre-prepared data\n",
    "data_df = pd.read_csv('/shared/JupyterHub-Examples-Data/ev/ev_overall_household_demand.zip', compression='zip')\n",
    "\n",
    "data_df.head(15)"
   ]
  },
  {
   "cell_type": "code",
   "execution_count": null,
   "metadata": {},
   "outputs": [],
   "source": [
    "#replace null with 0's\n",
    "day_df = data_df.fillna(0)\n",
    "\n",
    "# convert localminute to pandas daytime type\n",
    "day_df['datetime'] = pd.to_datetime(day_df['localminute'])\n",
    "\n",
    "day_df = day_df.set_index('datetime')\n",
    "\n",
    "#create day column\n",
    "day_df['day'] = day_df.index.day\n",
    "\n",
    "#create new dataframes with grid, solar, car1, and day column\n",
    "day_df_new = pd.DataFrame(day_df, columns = ['grid', 'solar', 'car1', 'day'])\n",
    "\n",
    "# group data based on day and get avg\n",
    "day_df_grouped = day_df_new.groupby(['day']).mean()\n",
    "\n",
    "day_df_grouped['demand'] = day_df_grouped['car1'] / (day_df_grouped['grid']+ day_df_grouped['solar']) * 100\n",
    "\n",
    "day_df_grouped.head(10)\n"
   ]
  },
  {
   "cell_type": "code",
   "execution_count": null,
   "metadata": {},
   "outputs": [],
   "source": [
    "print(day_df_grouped['demand'].mean())"
   ]
  },
  {
   "cell_type": "code",
   "execution_count": null,
   "metadata": {},
   "outputs": [],
   "source": [
    "#replace null with 0's\n",
    "week_df = data_df.fillna(0)\n",
    "# convert localminute to pandas daytime type\n",
    "week_df['datetime'] = pd.to_datetime(week_df['localminute'])\n",
    "\n",
    "week_df = week_df.set_index('datetime')\n",
    "\n",
    "#create day column\n",
    "week_df['week'] = week_df.index.week\n",
    "\n",
    "#create new dataframes with grid, car1, and week column\n",
    "week_df_new = pd.DataFrame(week_df, columns = ['grid', 'solar', 'car1', 'week'])\n",
    "\n",
    "# group data based on week and get avg\n",
    "week_df_grouped = week_df_new.groupby(['week']).mean()\n",
    "\n",
    "week_df_grouped['demand'] = week_df_grouped['car1'] / (week_df_grouped['grid']+week_df_grouped['solar']) * 100\n",
    "\n",
    "week_df_grouped.head(10)"
   ]
  },
  {
   "cell_type": "code",
   "execution_count": null,
   "metadata": {},
   "outputs": [],
   "source": [
    "print(week_df_grouped['demand'].mean())"
   ]
  },
  {
   "cell_type": "markdown",
   "metadata": {},
   "source": [
    "# Observations:\n",
    "As seen above daily and weekly overall demand of EV chargers stays pretty consistant. On average both daily and week demand is a little over 12%. At most demand peaks at about 16% and at min demand peaks at 10%."
   ]
  },
  {
   "cell_type": "code",
   "execution_count": null,
   "metadata": {},
   "outputs": [],
   "source": []
  }
 ],
 "metadata": {
  "kernelspec": {
   "display_name": "Python 3",
   "language": "python",
   "name": "python3"
  },
  "language_info": {
   "codemirror_mode": {
    "name": "ipython",
    "version": 3
   },
   "file_extension": ".py",
   "mimetype": "text/x-python",
   "name": "python",
   "nbconvert_exporter": "python",
   "pygments_lexer": "ipython3",
   "version": "3.8.5"
  }
 },
 "nbformat": 4,
 "nbformat_minor": 4
}
