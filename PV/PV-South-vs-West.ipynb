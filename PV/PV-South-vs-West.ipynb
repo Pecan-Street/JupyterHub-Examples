{
 "cells": [
  {
   "cell_type": "markdown",
   "metadata": {},
   "source": [
    "# PV: Solar production on south- vs. west-facing rooftop and how solar systems align with 4CP events in Texas\n",
    "\n",
    "This notebook will explore solar generation around the ERCOT 4CP events and compare West vs South facing solar generation during those events.\n",
    "\n",
    "The ERCOT 4CP events are the 15-minute ERCOT grid peak events for each month in June, July, August and September.\n",
    "\n",
    "ERCOT uses each large customer’s (including municipal utilities) total energy demand during the 4CP periods in the previous year as the basis for charges in the current year."
   ]
  },
  {
   "cell_type": "code",
   "execution_count": null,
   "metadata": {},
   "outputs": [],
   "source": [
    "import pandas as pd\n",
    "import matplotlib.pyplot as plt\n",
    "import sys\n",
    "%matplotlib inline\n",
    "sys.executable  # shows you your path to the python you're using"
   ]
  },
  {
   "cell_type": "code",
   "execution_count": null,
   "metadata": {},
   "outputs": [],
   "source": [
    "#Read pre-processed data for June 2018 through August 2018\n",
    "df2 = pd.read_csv('/shared/JupyterHub-Examples-Data/pv/pv_south_vs_west.zip',compression='zip')\n",
    "df2"
   ]
  },
  {
   "cell_type": "code",
   "execution_count": null,
   "metadata": {},
   "outputs": [],
   "source": [
    "# Checking completeness of data. We will consider only those homes that have 100% data for the 4CP dates\n",
    "data = df2.groupby(['dataid']).size().reset_index(name='counts')\n",
    "data['perc'] = (data['counts']/256)*100\n",
    "ndata = data[data['perc'] == 100]\n",
    "final_dataids = ndata['dataid']\n",
    "\n",
    "df3=df2.loc[df2['dataid'].isin(final_dataids)]\n",
    "df3.count()\n"
   ]
  },
  {
   "cell_type": "code",
   "execution_count": null,
   "metadata": {},
   "outputs": [],
   "source": [
    "dataids_list = df3['dataid'].unique()\n",
    "len(dataids_list)"
   ]
  },
  {
   "cell_type": "code",
   "execution_count": null,
   "metadata": {},
   "outputs": [],
   "source": [
    "# drop any missing values\n",
    "df3 = df3.dropna()"
   ]
  },
  {
   "cell_type": "code",
   "execution_count": null,
   "metadata": {},
   "outputs": [],
   "source": [
    "# convert localminute to pandas datetime type\n",
    "df3['datetime'] = pd.to_datetime(df3['localminute'])\n",
    "\n",
    "# and set as index\n",
    "df3 = df3.set_index('datetime')\n",
    "df3"
   ]
  },
  {
   "cell_type": "code",
   "execution_count": null,
   "metadata": {},
   "outputs": [],
   "source": [
    "# group by month and dataid and take the mean of solar, grid, and usage within those groups\n",
    "grouped = df3.groupby([pd.Grouper(freq='M'), 'dataid']).mean()\n",
    "grouped"
   ]
  },
  {
   "cell_type": "code",
   "execution_count": null,
   "metadata": {},
   "outputs": [],
   "source": [
    "# read in the list of homes and direction that they face\n",
    "df = pd.read_csv('/shared/JupyterHub-Examples-Data/pv/pv_south_vs_west_homes.zip',compression='zip')\n",
    "df"
   ]
  },
  {
   "cell_type": "code",
   "execution_count": null,
   "metadata": {},
   "outputs": [],
   "source": [
    "# map pv direction onto dataids with a merge after resetting the index\n",
    "grouped = grouped.reset_index()\n",
    "grouped = grouped.merge(df, how='left', left_on='dataid', right_on='dataid')\n",
    "grouped"
   ]
  },
  {
   "cell_type": "code",
   "execution_count": null,
   "metadata": {},
   "outputs": [],
   "source": [
    "# reindex by the date\n",
    "grouped = grouped.set_index('datetime')\n",
    "grouped"
   ]
  },
  {
   "cell_type": "code",
   "execution_count": null,
   "metadata": {},
   "outputs": [],
   "source": [
    "# regroup by year and pv_panel_direction and average the values\n",
    "year_west_vs_south = (grouped.groupby([pd.Grouper(freq='Y'),'pv_panel_direction']).mean())\n",
    "\n",
    "# we don't need a mean of the dataids, so we can drop that column now\n",
    "year_west_vs_south = year_west_vs_south.drop(columns=['dataid'])\n",
    "year_west_vs_south"
   ]
  },
  {
   "cell_type": "markdown",
   "metadata": {},
   "source": []
  },
  {
   "cell_type": "code",
   "execution_count": null,
   "metadata": {},
   "outputs": [],
   "source": [
    "# now just drop unneeded columns and rearrange them and simplify the view\n",
    "year_west_vs_south = year_west_vs_south.reset_index()\n",
    "year_west_vs_south['year'] = pd.DatetimeIndex(year_west_vs_south['datetime']).year\n",
    "year_west_vs_south = year_west_vs_south[['year', 'pv_panel_direction','solar', 'grid', 'usage']]\n",
    "year_west_vs_south = year_west_vs_south.set_index('year')\n",
    "year_west_vs_south"
   ]
  },
  {
   "cell_type": "markdown",
   "metadata": {},
   "source": [
    "# Result: West Facing Solar Wins!\n",
    "## Despite the higher in-home usage (green bars, 'usage') in the west facing houses the solar production is so high (blue bars, 'solar') that it is still using less power from the grid (orage bars, 'grid') in West-facing vs South-facing home in each paired year. In most cases here, grid is even negative meaning that the West-facing homes are putting power back on the grid."
   ]
  },
  {
   "cell_type": "code",
   "execution_count": null,
   "metadata": {},
   "outputs": [],
   "source": [
    "from matplotlib.pyplot import figure\n",
    "plot = year_west_vs_south.plot(kind='bar',figsize=(25,15), title=\"Solar production, Net Grid Usage (home usage from the grid minus solar production), and Home Usage During ERCOT 4CP events\")\n",
    "labels = plot.set_xticklabels(['2016-South', '2016-West', '2017-South', '2017-West', '2018-South', '2018-West', '2019-South', '2019-West'])\n",
    "ylabel = plot.set_ylabel('Usage/Production in kW')\n",
    "xlabel = plot.set_xlabel('South vs West Facing Year')"
   ]
  },
  {
   "cell_type": "code",
   "execution_count": null,
   "metadata": {},
   "outputs": [],
   "source": []
  }
 ],
 "metadata": {
  "kernelspec": {
   "display_name": "Python 3",
   "language": "python",
   "name": "python3"
  },
  "language_info": {
   "codemirror_mode": {
    "name": "ipython",
    "version": 3
   },
   "file_extension": ".py",
   "mimetype": "text/x-python",
   "name": "python",
   "nbconvert_exporter": "python",
   "pygments_lexer": "ipython3",
   "version": "3.8.5"
  }
 },
 "nbformat": 4,
 "nbformat_minor": 4
}
