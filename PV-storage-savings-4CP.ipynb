{
 "cells": [
  {
   "cell_type": "markdown",
   "metadata": {},
   "source": [
    "# Savings from a battery and solar system during ERCOT 4CP events\n",
    "\n",
    "We're going to look at if solar equipped homes stored all excess energy produced on the day of a 4CP event between 7AM until 4PM, then started discharging it from 4-5:30PM. How much energy would be stored up, and what would the potential savings of that be based on a cost of $55/kWh."
   ]
  },
  {
   "cell_type": "code",
   "execution_count": null,
   "metadata": {},
   "outputs": [],
   "source": [
    "import pandas as pd\n",
    "import matplotlib.pyplot as plt\n",
    "import psycopg2\n",
    "import sqlalchemy as sqla\n",
    "import os\n",
    "from config.read_config import get_database_config\n",
    "import sys\n",
    "%matplotlib inline\n",
    "sys.executable  # shows you your path to the python you're using"
   ]
  },
  {
   "cell_type": "code",
   "execution_count": null,
   "metadata": {},
   "outputs": [],
   "source": [
    "# read in db credentials from config/config.txt\n",
    "# * make sure you add those to the config/config.txt file! *\n",
    "\n",
    "database_config = get_database_config(\"./config/config.txt\")\n"
   ]
  },
  {
   "cell_type": "code",
   "execution_count": null,
   "metadata": {},
   "outputs": [],
   "source": [
    "# get our DB connection\n",
    "engine = sqla.create_engine('postgresql://{}:{}@{}:{}/{}'.format(database_config['username'],\n",
    "                                                                     database_config['password'],\n",
    "                                                                     database_config['hostname'],\n",
    "                                                                     database_config['port'],\n",
    "                                                                     database_config['database']\n",
    "                                                                     ))\n"
   ]
  },
  {
   "cell_type": "code",
   "execution_count": null,
   "metadata": {},
   "outputs": [],
   "source": [
    "# Set the cost of a kWh in dollars\n",
    "cost_kWh = 55\n",
    "\n",
    "# These are the ERCOT 4CP events (start date/time and end date/time) for 2016 - 2019 acquired from\n",
    "# http://mis.ercot.com/misapp/GetReports.do?reportTypeId=13037&reportTitle=Planned%20Service%20Four%20Coincident%20Peak%20Calculations&showHTMLView=&mimicKey\n",
    "\n",
    "event_days = ['2019-06-19', '2019-07-30', '2019-08-12', '2019-09-06',\n",
    "               '2018-06-27', '2018-07-19', '2018-08-23', '2018-09-19',\n",
    "               '2017-06-23', '2017-07-28', '2017-08-16', '2017-09-20',\n",
    "               '2016-06-15', '2016-07-14', '2016-08-11', '2016-09-19'\n",
    "              ]\n",
    "\n",
    "# we're going to look at using 7AM to 4PM to charge the theoretical battery as the time the sun becomes available to the PV systems \n",
    "# until the earliest possible time of a 4CP event (4PM), then discharge from 4PM - 5:30PM to cover any 4CP timeslots that have happened thus far\n",
    "start_time = '07:00:00-05'\n",
    "end_time   = '16:00:00-05'\n",
    "\n",
    "# these are the actual 4CP event start times and end times from 2016-2019 for reference\n",
    "event_start_dates = ['2019-06-19 17:00:00-05', '2019-07-30 16:30:00-05', '2019-08-12 17:00:00-05', '2019-09-06 16:45:00-05',\n",
    "               '2018-06-27 17:00:00-05', '2018-07-19 17:00:00-05', '2018-08-23 16:45:00-05', '2018-09-19 16:30:00-05',\n",
    "               '2017-06-23 16:45:00-05', '2017-07-28 17:00:00-05', '2017-08-16 17:00:00-05', '2017-09-20 16:45:00-05',\n",
    "               '2016-06-15 17:00:00-05', '2016-07-14 16:00:00-05', '2016-08-11 16:30:00-05', '2016-09-19 16:15:00-05'\n",
    "              ]\n",
    "event_end_dates = ['2019-06-19 17:15:00-05', '2019-07-30 16:45:00-05', '2019-08-12 17:15:00-05', '2019-09-06 17:00:00-05',\n",
    "               '2018-06-27 17:15:00-05', '2018-07-19 17:15:00-05', '2018-08-23 17:00:00-05', '2018-09-19 16:45:00-05',\n",
    "               '2017-06-23 17:00:00-05', '2017-07-28 17:15:00-05', '2017-08-16 17:15:00-05', '2017-09-20 17:00:00-05',\n",
    "               '2016-06-15 17:15:00-05', '2016-07-14 16:15:00-05', '2016-08-11 16:45:00-05', '2016-09-19 16:30:00-05'\n",
    "                  ]"
   ]
  },
  {
   "cell_type": "code",
   "execution_count": null,
   "metadata": {},
   "outputs": [],
   "source": [
    "# let's select homes that have solar and a high amount of data completeness\n",
    "# we're also filtering out homes that have really large solar arrays (larger than 6.25)\n",
    "# we're excluding dataids 5448, 2925 due to having a battery already\n",
    "query = \"\"\"\n",
    "select dataid, pv, total_amount_of_pv\n",
    "from other_datasets.metadata\n",
    "where pv is not null\n",
    "and grid is not null \n",
    "and solar is not null\n",
    "and total_amount_of_pv is not null\n",
    "and total_amount_of_pv <= 6.25\n",
    "and egauge_1min_min_time < '2016-06-15'\n",
    "and egauge_1min_max_time > '2019-09-06'\n",
    "and dataid not in (5448, 2925)\n",
    "and (egauge_1min_data_availability like '%100%' or egauge_1min_data_availability like '99%' or egauge_1min_data_availability like '98%')\n",
    "limit 25\n",
    "\"\"\"\n",
    "\n",
    "# create a Pandas dataframe with the data from the sql query\n",
    "dataids = pd.read_sql_query(sqla.text(query), engine)\n",
    "dataids.head(10)"
   ]
  },
  {
   "cell_type": "code",
   "execution_count": null,
   "metadata": {},
   "outputs": [],
   "source": [
    "dataids.describe()"
   ]
  },
  {
   "cell_type": "code",
   "execution_count": null,
   "metadata": {},
   "outputs": [],
   "source": [
    "# extract the dataids\n",
    "# grab dataids and convert them to a string to put into the SQL query\n",
    "dataids_list = dataids['dataid'].tolist()\n",
    "print(\"{} dataids selected listed here:\".format(len(dataids_list)))\n",
    "dataids_str = ','.join(list(map(str, dataids_list)))\n",
    "dataids_str\n",
    "# dataids_list"
   ]
  },
  {
   "cell_type": "code",
   "execution_count": null,
   "metadata": {},
   "outputs": [],
   "source": [
    "# select the data for all of the events for all of these homes starting at 7AM and ending at 4PM\n",
    "# the first date starting at midnight and ending at the end time of one of the 4CP events\n",
    "\n",
    "first_start = event_days.pop(0)\n",
    "energy_query = \"\"\"\n",
    "select dataid, localminute, solar, grid from electricity.eg_realpower_1min \n",
    "where ((localminute >= '{} {}' and localminute <= '{} {}') \"\"\".format(first_start, start_time, first_start, end_time)\n",
    "\n",
    "for day in event_days:\n",
    "    energy_query = energy_query + \"OR (localminute >= '{} {}' and localminute <= '{} {}') \".format(day, start_time, day, end_time)\n",
    "\n",
    "energy_query = energy_query + \"\"\" ) AND dataid in ({})\"\"\".format(dataids_str)\n",
    "\n",
    "print(\"query is {}\".format(energy_query))\n",
    "\n",
    "df2 = pd.read_sql_query(sqla.text(energy_query), engine)"
   ]
  },
  {
   "cell_type": "code",
   "execution_count": null,
   "metadata": {},
   "outputs": [],
   "source": [
    "df2.describe()"
   ]
  },
  {
   "cell_type": "code",
   "execution_count": null,
   "metadata": {},
   "outputs": [],
   "source": [
    "# calculate usage as grid minus solar (which is actually grid + solar because solar is negative use)\n",
    "# Calculate the difference with a lambda function and add it as a new column called 'usage'\n",
    "\n",
    "# NOTE: This takes a while to run, after all it's running this lambda function on ~520k points\n",
    "df2['usage'] = df2.apply(lambda row: row.solar + row.grid, axis=1)\n",
    "df2.describe()"
   ]
  },
  {
   "cell_type": "code",
   "execution_count": null,
   "metadata": {},
   "outputs": [],
   "source": [
    "# what's going on with the neg usage?\n",
    "wat = df2.loc[df2['usage'] < 0]\n",
    "wat.dataid.unique()"
   ]
  },
  {
   "cell_type": "code",
   "execution_count": null,
   "metadata": {},
   "outputs": [],
   "source": [
    "# convert localminute to pandas datetime type\n",
    "df2['datetime'] = pd.to_datetime(df2['localminute'])\n",
    "\n",
    "# and set as index\n",
    "df2 = df2.set_index('datetime')\n",
    "\n",
    "# set local timezone\n",
    "df2 = df2.tz_convert('US/Central')\n",
    "\n",
    "df2"
   ]
  },
  {
   "cell_type": "code",
   "execution_count": null,
   "metadata": {},
   "outputs": [],
   "source": [
    "\n",
    "# group by month and dataid and sum negative grid grouping into month by dataid giving us each home's accumulated negative grid \n",
    "# (extra solar production) for that month's 4CP event day between 7AM and 4PM\n",
    "df3 = df2.loc[df2['grid'] < 0].groupby([pd.Grouper(freq='M'), 'dataid']).sum()\n",
    "df3"
   ]
  },
  {
   "cell_type": "code",
   "execution_count": null,
   "metadata": {},
   "outputs": [],
   "source": [
    "# we're going to have a look at what happens when we average them all together by month \n",
    "df4 = df3.reset_index()\n",
    "df4 = df4.set_index('datetime')\n",
    "df4 = df4.groupby([pd.Grouper(freq='M')]).mean()\n",
    "\n",
    "# drop all rows that are all NaN\n",
    "df4 = df4.dropna(thresh=3)\n",
    "\n",
    "# drop all the dataids\n",
    "df4 = df4.drop(columns=['dataid'])\n",
    "\n",
    "# convert to KWh\n",
    "df4 = df4.apply(lambda x : x / 60.0)\n",
    "\n",
    "# this gives us the 16 event days averaged together per day\n",
    "df4"
   ]
  },
  {
   "cell_type": "code",
   "execution_count": null,
   "metadata": {},
   "outputs": [],
   "source": [
    "# let's put this all on a bar chart with a set of solar/grid/usage per day\n",
    "ax = df4.plot.bar(rot=90, figsize=[60,30], fontsize=25, grid=True)\n",
    "ax.set_xlabel('4CP Event Date', fontsize = 30)\n",
    "ax.set_ylabel('kWh', fontsize = 30)\n",
    "legend = ax.legend(loc=1, prop={'size': 50})"
   ]
  },
  {
   "cell_type": "code",
   "execution_count": null,
   "metadata": {},
   "outputs": [],
   "source": [
    "# OK, back to the 3rd dataframe before we averaged them all together by month when we simply had grouped by month and dataid \n",
    "# and taken a sum of the rows with negative grid\n",
    "\n",
    "# let's drop the usage and solar columns now that we'll only be working with the grid column\n",
    "df3 = df3.drop(columns=['solar','usage'])\n",
    "df3.describe()"
   ]
  },
  {
   "cell_type": "code",
   "execution_count": null,
   "metadata": {},
   "outputs": [],
   "source": [
    "# average that entire negative grid column\n",
    "ave_neg = df3.mean()\n",
    "ave_neg.grid"
   ]
  },
  {
   "cell_type": "code",
   "execution_count": null,
   "metadata": {},
   "outputs": [],
   "source": [
    "# convert summed up usage to give us kWh by dividing by 60 (one minute data / 60 because there are 60 minutes per hour)\n",
    "kWh = ave_neg.grid / 60\n",
    "kWh"
   ]
  },
  {
   "cell_type": "code",
   "execution_count": null,
   "metadata": {},
   "outputs": [],
   "source": [
    "# divide by 1.5 to calculate the kW discharged over the 1.5 hours of the time between 4PM and 5:30PM to cover the potential 4CP event.\n",
    "kW = kWh / 1.5\n",
    "kW"
   ]
  },
  {
   "cell_type": "code",
   "execution_count": null,
   "metadata": {},
   "outputs": [],
   "source": [
    "# At a rate of $550 / kW how much on average is saved per house if we store up all the solar produced starting at \n",
    "# 7AM until 4PM and then discharge to cover the potential 4CP event that day from 4PM - 5:30 PM\n",
    "value = abs(kW) * cost_kWh\n",
    "print(\"Average $ saved per house if they charged their battery day of a 4CP event, then started discharging at 4PM would be ${}\".format(str(round(value, 2))))"
   ]
  },
  {
   "cell_type": "code",
   "execution_count": null,
   "metadata": {},
   "outputs": [],
   "source": []
  }
 ],
 "metadata": {
  "kernelspec": {
   "display_name": "Python 3",
   "language": "python",
   "name": "python3"
  },
  "language_info": {
   "codemirror_mode": {
    "name": "ipython",
    "version": 3
   },
   "file_extension": ".py",
   "mimetype": "text/x-python",
   "name": "python",
   "nbconvert_exporter": "python",
   "pygments_lexer": "ipython3",
   "version": "3.8.5"
  }
 },
 "nbformat": 4,
 "nbformat_minor": 4
}
