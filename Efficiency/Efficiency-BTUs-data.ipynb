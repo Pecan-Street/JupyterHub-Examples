{
 "cells": [
  {
   "cell_type": "markdown",
   "metadata": {},
   "source": [
    "# Dataport Database Extraction Notebook for the Efficiency-BTUs Notebook\n",
    "## This notebook will connect to the database and extract the data live and put it into compressed zip files in this directory. \n",
    "You'll need to modify the read_csv calls in that notebook to point at these instead of the ones we've extracted and prepared for you in the /shared directory on the JupyterHub server if you would like to use the ones exported by this notebook."
   ]
  },
  {
   "cell_type": "code",
   "execution_count": null,
   "metadata": {},
   "outputs": [],
   "source": [
    "#import packages\n",
    "import pandas as pd\n",
    "import psycopg2\n",
    "import sqlalchemy as sqla\n",
    "import os\n",
    "import numpy as np\n",
    "import sys\n",
    "sys.path.insert(0,'..')\n",
    "from config.read_config import get_database_config\n",
    "%matplotlib inline\n",
    "sys.executable  # shows you your path to the python you're using\n",
    "\n",
    "# read in db credentials from config/config.txt\n",
    "# * make sure you add those to the config/config.txt file! *\n",
    "\n",
    "database_config = get_database_config(\"../config/config.txt\")"
   ]
  },
  {
   "cell_type": "code",
   "execution_count": null,
   "metadata": {},
   "outputs": [],
   "source": [
    "# get our DB connection\n",
    "engine = sqla.create_engine('postgresql://{}:{}@{}:{}/{}'.format(database_config['username'],\n",
    "                                                                     database_config['password'],\n",
    "                                                                     database_config['hostname'],\n",
    "                                                                     database_config['port'],\n",
    "                                                                     database_config['database']\n",
    "                                                                     ))"
   ]
  },
  {
   "cell_type": "code",
   "execution_count": null,
   "metadata": {},
   "outputs": [],
   "source": [
    "#Select a list of Texas homes from dataport metadata having good gas data availabilty\n",
    "query = \"\"\"select distinct dataid, egauge_1min_data_availability, gas_data_availability, grid, solar from other_datasets.metadata \n",
    "                                         \n",
    "                                          where grid = 'yes'\n",
    "                                          and egauge_1min_min_time <= '2018-03-01' \n",
    "                                          and egauge_1min_max_time > '2018-09-01'\n",
    "                                          and city='Austin'\n",
    "                                          and (egauge_1min_data_availability like '100%' \n",
    "                                               or \n",
    "                                               egauge_1min_data_availability like '9%')\n",
    "                                          and gas_ert_min_time <= '2018-03-01'\n",
    "                                          and gas_ert_max_time > '2018-09-01'\n",
    "                                          and\n",
    "                                              (\n",
    "                                              gas_data_availability like '100%'\n",
    "                                              or\n",
    "                                              gas_data_availability like '9%'\n",
    "                                              or\n",
    "                                              gas_data_availability like '8%'\n",
    "                                              or\n",
    "                                              gas_data_availability like '7%'\n",
    "                                              )\n",
    "                                          ;\n",
    "         \"\"\"\n",
    "\n",
    "df = pd.read_sql_query(sqla.text(query), engine)\n",
    "df"
   ]
  },
  {
   "cell_type": "code",
   "execution_count": null,
   "metadata": {},
   "outputs": [],
   "source": [
    "# export to a zipped csv\n",
    "compression_opts = dict(method='zip',\n",
    "                        archive_name='efficiency_btus_metadata.csv')\n",
    "df.to_csv('efficiency_btus_metadata.zip', index=False,\n",
    "          compression=compression_opts)"
   ]
  },
  {
   "cell_type": "code",
   "execution_count": null,
   "metadata": {},
   "outputs": [],
   "source": [
    "# grab dataids and convert them to a string to put into the SQL query\n",
    "dataids_list = df['dataid'].tolist()\n",
    "print(\"{} dataids selected listed here:\".format(len(dataids_list)))\n",
    "dataids_str = ','.join(list(map(str, dataids_list)))\n",
    "dataids_str"
   ]
  },
  {
   "cell_type": "code",
   "execution_count": null,
   "metadata": {},
   "outputs": [],
   "source": [
    "#Pull electricity data for selected homes.\n",
    "data = \"\"\"select dataid,localminute::timestamp,solar,grid \n",
    "               from electricity.eg_realpower_1min \n",
    "               where localminute >= '2018-03-01' and localminute <  '2018-09-01' \"\"\"\n",
    "data = data + \"\"\"AND dataid in ({})\"\"\".format(dataids_str)\n",
    "\n",
    "# create a dataframe with the data from the sql query\n",
    "data_df = pd.read_sql_query(sqla.text(data), engine)\n",
    "\n",
    "data_df"
   ]
  },
  {
   "cell_type": "code",
   "execution_count": null,
   "metadata": {},
   "outputs": [],
   "source": [
    "# export to a zipped csv\n",
    "compression_opts = dict(method='zip',\n",
    "                        archive_name='efficiency_btus_electricity_data.csv')\n",
    "data_df.to_csv('efficiency_btus_electricity_data.zip', index=False,\n",
    "          compression=compression_opts)"
   ]
  },
  {
   "cell_type": "code",
   "execution_count": null,
   "metadata": {},
   "outputs": [],
   "source": [
    "# Pull gas data for same homes and time period\n",
    "gas_sql = \"\"\"select * \n",
    "               from water_and_gas.gas_ert \n",
    "               where readtime >= '2018-03-01' and readtime <  '2018-09-01' \"\"\"\n",
    "gas_sql = gas_sql + \"\"\"AND dataid in ({})\"\"\".format(dataids_str)\n",
    "\n",
    "# create a dataframe with the data from the sql query\n",
    "gas_df = pd.read_sql_query(sqla.text(gas_sql), engine)\n",
    "\n",
    "gas_df"
   ]
  },
  {
   "cell_type": "code",
   "execution_count": null,
   "metadata": {},
   "outputs": [],
   "source": [
    "# export to a zipped csv\n",
    "compression_opts = dict(method='zip',\n",
    "                        archive_name='efficiency_btus_gas_data.csv')\n",
    "gas_df.to_csv('efficiency_btus_gas_data.zip', index=False,\n",
    "          compression=compression_opts)"
   ]
  },
  {
   "cell_type": "code",
   "execution_count": null,
   "metadata": {},
   "outputs": [],
   "source": [
    "# lets go get some blucube water data now\n",
    "#Pull data for selected homes.\n",
    "water_sql = \"\"\"SELECT * FROM water_and_gas.blucube_water_data\n",
    "               where epoch_timestamp >= '2018-03-01' and epoch_timestamp <  '2018-09-01' \"\"\"\n",
    "water_sql = water_sql + \"\"\"AND dataid in ({})\"\"\".format(dataids_str)\n",
    "\n",
    "# create a dataframe with the data from the sql query\n",
    "water_df = pd.read_sql_query(sqla.text(water_sql), engine)\n",
    "\n",
    "water_df"
   ]
  },
  {
   "cell_type": "code",
   "execution_count": null,
   "metadata": {},
   "outputs": [],
   "source": [
    "# export to a zipped csv\n",
    "compression_opts = dict(method='zip',\n",
    "                        archive_name='efficiency_btus_water_data.csv')\n",
    "water_df.to_csv('efficiency_btus_water_data.zip', index=False,\n",
    "          compression=compression_opts)"
   ]
  },
  {
   "cell_type": "code",
   "execution_count": null,
   "metadata": {},
   "outputs": [],
   "source": []
  }
 ],
 "metadata": {
  "kernelspec": {
   "display_name": "Python 3",
   "language": "python",
   "name": "python3"
  },
  "language_info": {
   "codemirror_mode": {
    "name": "ipython",
    "version": 3
   },
   "file_extension": ".py",
   "mimetype": "text/x-python",
   "name": "python",
   "nbconvert_exporter": "python",
   "pygments_lexer": "ipython3",
   "version": "3.8.5"
  }
 },
 "nbformat": 4,
 "nbformat_minor": 4
}
