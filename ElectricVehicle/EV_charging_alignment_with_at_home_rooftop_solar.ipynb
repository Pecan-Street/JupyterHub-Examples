{
 "cells": [
  {
   "cell_type": "markdown",
   "metadata": {},
   "source": [
    "# At Home Solar Charging notebooks: Exploring how EV charging aligns with rooftop solar generation by homes\n",
    "\n",
    "<p>We will be using Pecan Street Inc. data from Dataport to determine how electric vehicle charging aligns with rooftop solar generation.\n",
    "    \n",
    "<br>Data from 24 homes with fairly complete data for the year 2018 is used to explore this question.\n",
    "    \n",
    "<br>\n",
    "Pecans Streets data can be obtained by applying for a dataport account at https://www.dataport.pecanstreet.org.</p>\n"
   ]
  },
  {
   "cell_type": "code",
   "execution_count": null,
   "metadata": {},
   "outputs": [],
   "source": [
    "#import packages\n",
    "import pandas as pd\n",
    "import matplotlib.pyplot as plt\n",
    "import psycopg2\n",
    "import sqlalchemy as sqla\n",
    "import os\n",
    "import sys\n",
    "sys.path.insert(0,'..')\n",
    "from config.read_config import get_database_config\n",
    "import numpy as np\n",
    "%matplotlib inline\n",
    "sys.executable  # shows you your path to the python you're using"
   ]
  },
  {
   "cell_type": "markdown",
   "metadata": {},
   "source": [
    "## We've already extracted the data for you into the 4 seasons of data for the time period and made them available on the JupyterHub server in the directory `/shared/JupyterHub-Examples-Data/ev/`\n",
    "\n",
    "If you wish to manipulate the queries for your own or work with the data from a live database connection, see the notebook named `Data-Extraction--EV_charging_alignment_with_at_home_rooftop_solar.ipynb` in this same directory.\n",
    "That notebook goes through the initial home selection and data extraction, then exports those files to a zipped csv file."
   ]
  },
  {
   "cell_type": "code",
   "execution_count": null,
   "metadata": {},
   "outputs": [],
   "source": [
    "# read fall data from the prepared csv.zip file\n",
    "fall_df = pd.read_csv('/shared/JupyterHub-Examples-Data/ev/ev_charging_alignmnent_fall.zip', compression='zip')\n",
    "\n",
    "fall_df.head(15)"
   ]
  },
  {
   "cell_type": "code",
   "execution_count": null,
   "metadata": {},
   "outputs": [],
   "source": [
    "# read spring data from the prepared csv.zip file\n",
    "spring_df = pd.read_csv('/shared/JupyterHub-Examples-Data/ev/ev_charging_alignmnent_spring.zip', compression='zip')\n",
    "\n",
    "spring_df.head(15)"
   ]
  },
  {
   "cell_type": "code",
   "execution_count": null,
   "metadata": {},
   "outputs": [],
   "source": [
    "# read fall data from the prepared csv.zip file\n",
    "summer_df = pd.read_csv('/shared/JupyterHub-Examples-Data/ev/ev_charging_alignmnent_summer.zip', compression='zip')\n",
    "\n",
    "summer_df.head(15)"
   ]
  },
  {
   "cell_type": "code",
   "execution_count": null,
   "metadata": {},
   "outputs": [],
   "source": [
    "# read winter data from the prepared csv.zip file\n",
    "winter_df = pd.read_csv('/shared/JupyterHub-Examples-Data/ev/ev_charging_alignmnent_winter.zip', compression='zip')\n",
    "\n",
    "winter_df.head(15)"
   ]
  },
  {
   "cell_type": "code",
   "execution_count": null,
   "metadata": {},
   "outputs": [],
   "source": [
    "# data analysis for summer\n",
    "\n",
    "#replace null with 0's\n",
    "summer_df = summer_df.fillna(0)\n",
    "# convert localminute to pandas daytime type\n",
    "summer_df['datetime'] = pd.to_datetime(summer_df['localminute'])\n",
    "\n",
    "summer_df = summer_df.set_index('datetime')\n",
    "\n",
    "#create hour column\n",
    "summer_df['hr'] = summer_df.index.hour\n",
    "\n",
    "#create new dataframes with solar, car1, and hour column\n",
    "summer_df_new = pd.DataFrame(summer_df, columns = ['solar', 'car1', 'hr'])\n",
    "\n",
    "# group data based on hour and get avg\n",
    "summer_df_grouped = summer_df_new.groupby(['hr']).mean()\n",
    "plot_summer = summer_df_grouped.reset_index()"
   ]
  },
  {
   "cell_type": "code",
   "execution_count": null,
   "metadata": {},
   "outputs": [],
   "source": [
    "# plot summer\n",
    "plt.figure(figsize=(20,10))\n",
    "plt.plot(plot_summer['hr'], plot_summer['car1'], label=\"car1\")\n",
    "plt.plot(plot_summer['hr'], plot_summer['solar'], label=\"solar\")\n",
    "plt.xticks(np.arange(0, 24, 1.0))\n",
    "plt.xlabel('hour')\n",
    "plt.legend()\n",
    "\n",
    "plt.show()"
   ]
  },
  {
   "cell_type": "code",
   "execution_count": null,
   "metadata": {},
   "outputs": [],
   "source": [
    "# Total car1 usuage powered by solar in summer\n",
    "total_car1_summer = summer_df_new['car1'].sum()\n",
    "solar_car1_summer = summer_df_new.loc[summer_df_new['car1'] < summer_df_new['solar'], 'car1'].sum()\n",
    "\n",
    "car1_powered_by_solar_summer = (solar_car1_summer/total_car1_summer) * 100\n",
    "car1_powered_by_solar_summer"
   ]
  },
  {
   "cell_type": "code",
   "execution_count": null,
   "metadata": {},
   "outputs": [],
   "source": [
    "# data analysis for fall\n",
    "\n",
    "#replace null with 0's\n",
    "fall_df = fall_df.fillna(0)\n",
    "# convert localminute to pandas daytime type\n",
    "fall_df['datetime'] = pd.to_datetime(fall_df['localminute'])\n",
    "\n",
    "fall_df = fall_df.set_index('datetime')\n",
    "\n",
    "#create hour column\n",
    "fall_df['hr'] = fall_df.index.hour\n",
    "\n",
    "#create new dataframes with solar, car1, and hour column\n",
    "fall_df_new = pd.DataFrame(fall_df, columns = ['solar', 'car1', 'hr'])\n",
    "\n",
    "# group data based on hour and get avg\n",
    "fall_df_grouped = fall_df_new.groupby(['hr']).mean()\n",
    "plot_fall = fall_df_grouped.reset_index()"
   ]
  },
  {
   "cell_type": "code",
   "execution_count": null,
   "metadata": {},
   "outputs": [],
   "source": [
    "# plot fall\n",
    "plt.figure(figsize=(20,10))\n",
    "plt.plot(plot_fall['hr'], plot_fall['car1'], label=\"car1\")\n",
    "plt.plot(plot_fall['hr'], plot_fall['solar'], label=\"solar\")\n",
    "plt.xticks(np.arange(0, 24, 1.0))\n",
    "plt.xlabel('hour')\n",
    "plt.legend()\n",
    "\n",
    "plt.show()"
   ]
  },
  {
   "cell_type": "code",
   "execution_count": null,
   "metadata": {},
   "outputs": [],
   "source": [
    "# Total car1 usuage powered by solar in fall\n",
    "total_car1_fall = fall_df_new['car1'].sum()\n",
    "solar_car1_fall = fall_df_new.loc[fall_df_new['car1'] < fall_df_new['solar'], 'car1'].sum()\n",
    "\n",
    "car1_powered_by_solar_fall = (solar_car1_fall/total_car1_fall) * 100\n",
    "car1_powered_by_solar_fall"
   ]
  },
  {
   "cell_type": "code",
   "execution_count": null,
   "metadata": {},
   "outputs": [],
   "source": [
    "#data analysis for spring\n",
    "\n",
    "#replace null with 0's \n",
    "spring_df = spring_df.fillna(0)\n",
    "\n",
    "\n",
    "# convert localminute to pandas datetime type\n",
    "spring_df['datetime'] = pd.to_datetime(spring_df['localminute'])\n",
    "\n",
    "spring_df = spring_df.set_index('datetime')\n",
    "\n",
    "#create hour column. We will be calculating average hourly load for spring.\n",
    "spring_df['hr'] = spring_df.index.hour\n",
    "\n",
    "#create new dataframes with only solar, car1 and hour column\n",
    "spring_df_new = pd.DataFrame(spring_df, columns = ['solar', 'car1','hr'])\n",
    "\n",
    "#group data based on hour and take avg\n",
    "spring_df_grouped = spring_df_new.groupby(['hr']).mean()\n",
    "plot_spring = spring_df_grouped.reset_index()"
   ]
  },
  {
   "cell_type": "code",
   "execution_count": null,
   "metadata": {},
   "outputs": [],
   "source": [
    "#plot spring\n",
    "plt.figure(figsize=(20,10))\n",
    "plt.plot(plot_spring['hr'],plot_spring['car1'],label=\"car1\")\n",
    "plt.plot(plot_spring['hr'],plot_spring['solar'],label=\"solar\")\n",
    "plt.xticks(np.arange(0, 24, 1.0))\n",
    "plt.xlabel('hour')\n",
    "plt.legend()\n",
    "\n",
    "plt.show()"
   ]
  },
  {
   "cell_type": "code",
   "execution_count": null,
   "metadata": {},
   "outputs": [],
   "source": [
    "#Total car1 usage powered by PV system in spring\n",
    "total_car1_spring = spring_df_new['car1'].sum()\n",
    "solar_car1_spring = spring_df_new.loc[spring_df_new['car1'] < spring_df_new['solar'], 'car1'].sum()\n",
    "\n",
    "car1_powered_by_solar_spring = (solar_car1_spring/total_car1_spring)*100\n",
    "car1_powered_by_solar_spring"
   ]
  },
  {
   "cell_type": "code",
   "execution_count": null,
   "metadata": {},
   "outputs": [],
   "source": [
    "#data analysis for winter\n",
    "\n",
    "#replace null with 0's \n",
    "winter_df = winter_df.fillna(0)\n",
    "\n",
    "# convert localminute to pandas datetime type\n",
    "winter_df['datetime'] = pd.to_datetime(winter_df['localminute'])\n",
    "\n",
    "winter_df = winter_df.set_index('datetime')\n",
    "\n",
    "#create hour column. We will be calculating average hourly load for winter.\n",
    "winter_df['hr'] = winter_df.index.hour\n",
    "\n",
    "#create new dataframes with only solar, car1 and hour column\n",
    "winter_df_new = pd.DataFrame(winter_df, columns = ['solar', 'car1','hr'])\n",
    "\n",
    "#group data based on hour and take avg\n",
    "winter_df_grouped = winter_df_new.groupby(['hr']).mean()\n",
    "plot_winter = winter_df_grouped.reset_index()"
   ]
  },
  {
   "cell_type": "code",
   "execution_count": null,
   "metadata": {},
   "outputs": [],
   "source": [
    "#plot winter\n",
    "plt.figure(figsize=(20,10))\n",
    "plt.plot(plot_winter['hr'],plot_winter['car1'],label=\"car1\")\n",
    "plt.plot(plot_winter['hr'],plot_winter['solar'],label=\"solar\")\n",
    "plt.xticks(np.arange(0, 24, 1.0))\n",
    "plt.xlabel('hour')\n",
    "plt.legend()\n",
    "\n",
    "plt.show()"
   ]
  },
  {
   "cell_type": "code",
   "execution_count": null,
   "metadata": {},
   "outputs": [],
   "source": [
    "#Total car1 usage powered by PV system in winter\n",
    "total_car1_winter = winter_df_new['car1'].sum()\n",
    "solar_car1_winter = winter_df_new.loc[winter_df_new['car1'] < winter_df_new['solar'], 'car1'].sum()\n",
    "\n",
    "car1_powered_by_solar_winter = (solar_car1_winter/total_car1_winter) * 100\n",
    "car1_powered_by_solar_winter"
   ]
  },
  {
   "cell_type": "code",
   "execution_count": null,
   "metadata": {},
   "outputs": [],
   "source": [
    "import statistics\n",
    "statistics.mean([car1_powered_by_solar_winter, car1_powered_by_solar_spring, car1_powered_by_solar_summer, car1_powered_by_solar_fall])"
   ]
  },
  {
   "cell_type": "markdown",
   "metadata": {},
   "source": [
    "## Observations:\n",
    "From the above graphs through out the year most homes started EV charging arount 9PM to 9:30PM and ended charging around 6AM (outside of solar peak hours). The average percentage of solar powered used for EV charging is around 4.4 %"
   ]
  },
  {
   "cell_type": "code",
   "execution_count": null,
   "metadata": {},
   "outputs": [],
   "source": []
  }
 ],
 "metadata": {
  "kernelspec": {
   "display_name": "Python 3",
   "language": "python",
   "name": "python3"
  },
  "language_info": {
   "codemirror_mode": {
    "name": "ipython",
    "version": 3
   },
   "file_extension": ".py",
   "mimetype": "text/x-python",
   "name": "python",
   "nbconvert_exporter": "python",
   "pygments_lexer": "ipython3",
   "version": "3.8.5"
  }
 },
 "nbformat": 4,
 "nbformat_minor": 4
}
