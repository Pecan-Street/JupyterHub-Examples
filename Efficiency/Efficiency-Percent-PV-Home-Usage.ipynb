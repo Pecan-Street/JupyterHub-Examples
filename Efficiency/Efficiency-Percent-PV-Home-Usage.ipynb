{
 "cells": [
  {
   "cell_type": "markdown",
   "metadata": {},
   "source": [
    "# Efficiency: What percent of a home’s average daily energy use is provided by its on-site solar PV-generated power\n",
    "\n",
    "To prepare the data we selected 50 Texas homes with PV. We used 1 minute energy(from electricity.eg_realpower_1min) data for the selected homes for March 2018 through August 2018."
   ]
  },
  {
   "cell_type": "code",
   "execution_count": null,
   "metadata": {},
   "outputs": [],
   "source": [
    "#import packages\n",
    "import pandas as pd\n",
    "import matplotlib.pyplot as plt\n",
    "import psycopg2\n",
    "import sqlalchemy as sqla\n",
    "import os\n",
    "from config.read_config import get_database_config\n",
    "from datetime import datetime as dt\n",
    "import numpy as np\n",
    "import sys\n",
    "%matplotlib inline\n",
    "sys.executable  # shows you your path to the python you're using"
   ]
  },
  {
   "cell_type": "code",
   "execution_count": null,
   "metadata": {},
   "outputs": [],
   "source": [
    "#Read pre-processed data \n",
    "data_df = pd.read_csv('/shared/whole-use-by-solar.gz', compression='gzip')\n",
    "homes_list = data_df.dataid.unique() \n",
    "homes_list"
   ]
  },
  {
   "cell_type": "code",
   "execution_count": null,
   "metadata": {},
   "outputs": [],
   "source": [
    "#Function to calculate how much energy use was powered by solar for each home for each interval\n",
    "def calc_use_powered_by_solar(row):\n",
    "\n",
    "    if row['grid'] < 0 and row['solar'] > 0:\n",
    "\n",
    "        val = row['total_use']\n",
    "\n",
    "    elif row['solar'] > 0 and row['grid'] > 0:\n",
    "\n",
    "        val = row['solar']\n",
    "\n",
    "    else:\n",
    "\n",
    "        val = 0\n",
    "\n",
    "    return val"
   ]
  },
  {
   "cell_type": "code",
   "execution_count": null,
   "metadata": {},
   "outputs": [],
   "source": [
    "#replace null with 0's \n",
    "data_df = data_df.fillna(0)\n",
    "\n",
    "#create new column use.\n",
    "data_df['total_use'] = data_df['grid'] + data_df['solar']\n",
    "\n",
    "data_df['use_powered_by_solar'] = data_df.apply(calc_use_powered_by_solar, axis=1)\n",
    "\n",
    "data_df.head(10)"
   ]
  },
  {
   "cell_type": "code",
   "execution_count": null,
   "metadata": {},
   "outputs": [],
   "source": [
    "# convert localminute to date\n",
    "#data_df['dt'] = data_df['localminute'].dt.normalize()\n",
    "\n",
    "data_df['localminute'] = pd.to_datetime(data_df['localminute'])\n",
    "data_df['dt'] = data_df['localminute'].dt.date\n",
    "data_df.head(10)"
   ]
  },
  {
   "cell_type": "code",
   "execution_count": null,
   "metadata": {},
   "outputs": [],
   "source": [
    "#calculate home's daily average use powered by solar\n",
    "avg_solar_use_by_day = pd.DataFrame(data_df, columns = ['dt','total_use','use_powered_by_solar'])\n",
    "avg_solar_use_by_day = avg_solar_use_by_day.groupby(['dt']).sum()\n",
    "avg_solar_use_by_day = avg_solar_use_by_day.reset_index()\n",
    "avg_solar_use_by_day['use_from_solar'] = (avg_solar_use_by_day['use_powered_by_solar']/avg_solar_use_by_day['total_use'])*100\n",
    "avg_solar_use_by_day.head(10)"
   ]
  },
  {
   "cell_type": "code",
   "execution_count": null,
   "metadata": {},
   "outputs": [],
   "source": [
    "print(avg_solar_use_by_day['use_from_solar'].mean())"
   ]
  },
  {
   "cell_type": "code",
   "execution_count": null,
   "metadata": {},
   "outputs": [],
   "source": [
    "#calculate home's weekly average use powered by solar\n",
    "avg_solar_use_by_week = pd.DataFrame(data_df, columns = ['dt','total_use','use_powered_by_solar'])\n",
    "avg_solar_use_by_week['dt'] = pd.to_datetime(avg_solar_use_by_week['dt'])\n",
    "avg_solar_use_by_week['week_num'] = avg_solar_use_by_week['dt'].dt.week\n",
    "#avg_solar_use_by_week['week_num'] = avg_solar_use_by_week['dt'].dt.week\n",
    "avg_solar_use_by_week = avg_solar_use_by_week.groupby(['week_num']).sum()\n",
    "avg_solar_use_by_week = avg_solar_use_by_week.reset_index()\n",
    "avg_solar_use_by_week['use_from_solar'] = (avg_solar_use_by_week['use_powered_by_solar']/avg_solar_use_by_week['total_use'])*100\n",
    "avg_solar_use_by_week.head(10)\n",
    "\n",
    "\n"
   ]
  },
  {
   "cell_type": "code",
   "execution_count": null,
   "metadata": {},
   "outputs": [],
   "source": [
    "#plot bar chart for average weekly use\n",
    "avg_solar_use_by_week.plot.bar(x='week_num', y='use_from_solar',figsize=(20,10),color='orange',title=\"Homes's average weekly use powered by solar\")\n",
    "plt.show()"
   ]
  },
  {
   "cell_type": "markdown",
   "metadata": {},
   "source": [
    "## From above analysis we see that 29% of home’s average daily energy use is provided by its on-site solar PV-generated power."
   ]
  }
 ],
 "metadata": {
  "kernelspec": {
   "display_name": "Python 3",
   "language": "python",
   "name": "python3"
  },
  "language_info": {
   "codemirror_mode": {
    "name": "ipython",
    "version": 3
   },
   "file_extension": ".py",
   "mimetype": "text/x-python",
   "name": "python",
   "nbconvert_exporter": "python",
   "pygments_lexer": "ipython3",
   "version": "3.8.5"
  }
 },
 "nbformat": 4,
 "nbformat_minor": 4
}
