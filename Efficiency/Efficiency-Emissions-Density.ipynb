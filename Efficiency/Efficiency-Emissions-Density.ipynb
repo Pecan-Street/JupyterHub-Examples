{
 "cells": [
  {
   "cell_type": "markdown",
   "metadata": {},
   "source": [
    "# Efficiency Notebooks: Exploring the emissions density of power used by homes\n",
    "We'll be using data from the Texas ISO, ERCOT, to calculate the emissions amount and emission sources from the generated power used by the electrical grid home usage.\n",
    "\n",
    "Entirely solar equipped homes will be used to demonstrate the interplay between solar generation and emissions during this time period (March - August 2018)\n",
    "\n",
    "ERCOT emissions/generation data pulled from http://www.ercot.com/content/wcm/lists/181766/FuelMixReport_PreviousYears.zip \n",
    "which you can find at http://www.ercot.com/gridinfo/generation"
   ]
  },
  {
   "cell_type": "code",
   "execution_count": null,
   "metadata": {},
   "outputs": [],
   "source": [
    "#import packages\n",
    "import pandas as pd\n",
    "import matplotlib.pyplot as plt\n",
    "import psycopg2\n",
    "import sqlalchemy as sqla\n",
    "import os\n",
    "import sys\n",
    "sys.path.insert(0,'..')\n",
    "from config.read_config import get_database_config\n",
    "import numpy as np\n",
    "import statistics\n",
    "%matplotlib inline\n",
    "sys.executable  # shows you your path to the python you're using"
   ]
  },
  {
   "cell_type": "code",
   "execution_count": null,
   "metadata": {},
   "outputs": [],
   "source": [
    "# set constants for lbs of CO2 / kWh\n",
    "_gas_cc_lbs = 0.75\n",
    "_gas_lbs = 1.0\n",
    "_coal_lbs = 2.21"
   ]
  },
  {
   "cell_type": "code",
   "execution_count": null,
   "metadata": {},
   "outputs": [],
   "source": [
    "# read in db credentials from ../config/config.txt\n",
    "# * make sure you add those to the ../config/config.txt file! *\n",
    "\n",
    "## Uncomment the following line to use the live database queries\n",
    "\n",
    "database_config = get_database_config(\"../config/config.txt\")\n",
    "\n",
    "#"
   ]
  },
  {
   "cell_type": "code",
   "execution_count": null,
   "metadata": {},
   "outputs": [],
   "source": [
    "# get our DB connection\n",
    "\n",
    "# uncomment if you want to use the live queries to the database instead of the prepared data\n",
    "\n",
    "engine = sqla.create_engine('postgresql://{}:{}@{}:{}/{}'.format(database_config['username'],\n",
    "                                                                     database_config['password'],\n",
    "                                                                     database_config['hostname'],\n",
    "                                                                     database_config['port'],\n",
    "                                                                     database_config['database']\n",
    "                                                                     ))\n"
   ]
  },
  {
   "cell_type": "code",
   "execution_count": null,
   "metadata": {},
   "outputs": [],
   "source": [
    "#Select a list of Austin homes from dataport metadata with good data availability for grid\n",
    "query = \"\"\"select distinct dataid, egauge_1min_data_availability, grid, solar from other_datasets.metadata \n",
    "                                          where grid = 'yes'\n",
    "                                          and solar = 'yes'\n",
    "                                          and egauge_1min_min_time <= '2018-03-01' \n",
    "                                          and egauge_1min_max_time > '2018-09-01'\n",
    "                                          and city='Austin'\n",
    "                                          and (egauge_1min_data_availability like '100%' \n",
    "                                               or \n",
    "                                               egauge_1min_data_availability like '99%'\n",
    "                                               or\n",
    "                                               egauge_1min_data_availability like '98%'\n",
    "                                               or\n",
    "                                               egauge_1min_data_availability like '97%'\n",
    "                                               )\n",
    "                                          and gas_ert_min_time <= '2018-03-01'\n",
    "                                          and gas_ert_max_time > '2018-09-01'\n",
    "                                          limit 50\n",
    "                                          ;\n",
    "         \"\"\"\n",
    "\n",
    "df = pd.read_sql_query(sqla.text(query), engine)\n",
    "df"
   ]
  },
  {
   "cell_type": "code",
   "execution_count": null,
   "metadata": {},
   "outputs": [],
   "source": [
    "# grab dataids and convert them to a string to put into the SQL query\n",
    "dataids_list = df['dataid'].tolist()\n",
    "print(\"{} dataids selected listed here:\".format(len(dataids_list)))\n",
    "dataids_str = ','.join(list(map(str, dataids_list)))\n",
    "dataids_str"
   ]
  },
  {
   "cell_type": "code",
   "execution_count": null,
   "metadata": {},
   "outputs": [],
   "source": [
    "#Pull electricity data for selected homes.\n",
    "data = \"\"\"select dataid,localminute::timestamp,grid \n",
    "               from electricity.eg_realpower_1min \n",
    "               where localminute >= '2018-03-01' and localminute <  '2018-09-01' \"\"\"\n",
    "data = data + \"\"\"AND dataid in ({})\"\"\".format(dataids_str)\n",
    "\n",
    "# create a dataframe with the data from the sql query\n",
    "grid_df = pd.read_sql_query(sqla.text(data), engine)\n",
    "\n",
    "grid_df"
   ]
  },
  {
   "cell_type": "code",
   "execution_count": null,
   "metadata": {},
   "outputs": [],
   "source": [
    "# read in 2018 ERCOT emissions data\n",
    "ercot = pd.read_csv('ercot_emissions_2018.csv')\n",
    "\n",
    "# index by Energy, GWh  \n",
    "ercot = ercot.set_index('Energy, GWh')\n",
    "\n",
    "# remove the commas from the numbers\n",
    "ercot.replace(',','', regex=True, inplace=True)\n",
    "\n",
    "# convert to a float from a string\n",
    "ercot = ercot.astype('float64')\n",
    "\n",
    "ercot"
   ]
  },
  {
   "cell_type": "code",
   "execution_count": null,
   "metadata": {},
   "outputs": [],
   "source": [
    "# Calc just one of them months and sources for a sanity check\n",
    "perc_coal_mar = ercot.loc['Coal','Mar'] / ercot.loc['Total','Mar']\n",
    "perc_coal_mar"
   ]
  },
  {
   "cell_type": "code",
   "execution_count": null,
   "metadata": {},
   "outputs": [],
   "source": [
    "# find the percentages for coal, gas, and gas-cc of the total blend of generation sources from ERCOT for our months and the emissions-producing sources\n",
    "sources = ['Coal', 'Gas', 'Gas-CC']\n",
    "months = ['Mar', 'Apr', 'May', 'Jun', 'Jul', 'Aug']\n",
    "percs = {}\n",
    "for source in sources:\n",
    "    for month in months:\n",
    "        percs[source + '' + month] = ercot.loc[source, month] / ercot.loc['Total', month]\n",
    "percs"
   ]
  },
  {
   "cell_type": "code",
   "execution_count": null,
   "metadata": {},
   "outputs": [],
   "source": [
    "# take the mean across the months for each source\n",
    "coal_ave = statistics.mean([percs['CoalMar'], percs['CoalApr'], percs['CoalMay'], percs['CoalJun'], percs['CoalJul'], percs['CoalAug']])\n",
    "gas_ave  = statistics.mean([percs['GasMar'], percs['GasApr'], percs['GasMay'], percs['GasJun'], percs['GasJul'], percs['GasAug']])\n",
    "gascc_ave  = statistics.mean([percs['Gas-CCMar'], percs['Gas-CCApr'], percs['Gas-CCMay'], percs['Gas-CCJun'], percs['Gas-CCJul'], percs['Gas-CCAug']])\n",
    "\n",
    "print ('Coal = {}%'.format(coal_ave * 100))\n",
    "print ('Gas = {}%'.format(gas_ave * 100))\n",
    "print ('Gas-CC = {}%'.format(gascc_ave * 100))"
   ]
  },
  {
   "cell_type": "code",
   "execution_count": null,
   "metadata": {},
   "outputs": [],
   "source": [
    "# complete the full percentage, fill with the rest of the sources that are largely non-emissions producing\n",
    "the_rest = 1.0 - coal_ave - gas_ave - gascc_ave\n",
    "\n",
    "# pie chart\n",
    "pie_data = [coal_ave, gas_ave, gascc_ave, the_rest]\n",
    "pie_labels = ['Coal', 'Gas', 'Gas-CC', 'Other']\n",
    "explode = [.05, .05, .05, .05] # separates the slices a little bit\n",
    "plt.pie(pie_data, labels=pie_labels, autopct='%1.1f%%', startangle=15, shadow = True, explode=explode)\n",
    "plt.title('ERCOT Generation Percentages')\n",
    "plt.axis('equal')\n",
    "plt.show()"
   ]
  },
  {
   "cell_type": "code",
   "execution_count": null,
   "metadata": {},
   "outputs": [],
   "source": [
    "# convert ercot table to percentages:\n",
    "def add_percentages(column):\n",
    "    return column / column['Total']\n",
    "\n",
    "ercot_perc = ercot.apply(add_percentages)\n",
    "ercot_perc"
   ]
  },
  {
   "cell_type": "code",
   "execution_count": null,
   "metadata": {},
   "outputs": [],
   "source": [
    "ercot_perc.index.name = \"% of Generation\"\n",
    "ercot_perc"
   ]
  },
  {
   "cell_type": "code",
   "execution_count": null,
   "metadata": {},
   "outputs": [],
   "source": [
    "# clean up that percentage table\n",
    "ercot_perc = ercot_perc.drop(index=['Biomass', 'Hydro', 'Nuclear', 'Other', 'Solar', 'Wind', 'Total'], columns=['Jan', 'Feb', 'Sep', 'Oct', 'Nov', 'Dec', 'Total'])\n",
    "ercot_perc"
   ]
  },
  {
   "cell_type": "code",
   "execution_count": null,
   "metadata": {},
   "outputs": [],
   "source": [
    "# index by localminute \n",
    "grid_df = grid_df.set_index('localminute')\n",
    "\n",
    "# bring to central timezone\n",
    "grid_df = grid_df.tz_localize(tz='US/Central')\n",
    "grid_df"
   ]
  },
  {
   "cell_type": "code",
   "execution_count": null,
   "metadata": {},
   "outputs": [],
   "source": [
    "# drop any rows that have blank grid\n",
    "grid_df = grid_df.dropna(how='any')\n",
    "grid_df"
   ]
  },
  {
   "cell_type": "code",
   "execution_count": null,
   "metadata": {},
   "outputs": [],
   "source": [
    "# calculate the average grid usage of the homes over this time period\n",
    "grouped_grid = grid_df.groupby([pd.Grouper(freq='D')]).mean()\n",
    "grouped_grid['grid'] = grouped_grid['grid'] * 24 # converts daily average grid use/generation to kWh\n",
    "grouped_grid"
   ]
  },
  {
   "cell_type": "code",
   "execution_count": null,
   "metadata": {},
   "outputs": [],
   "source": [
    "# the above was using the monthly averages from Mar - Aug from ercot all averaged together for each source\n",
    "# let's use the actual monthy averages for each point instead\n",
    "grid_more = grouped_grid"
   ]
  },
  {
   "cell_type": "code",
   "execution_count": null,
   "metadata": {},
   "outputs": [],
   "source": [
    "# extract and addd the month to the dataframe\n",
    "grid_more['Month'] = grid_more.index.strftime('%B')\n",
    "grid_more['Month'] = grid_more['Month'].astype(str)\n",
    "grid_more"
   ]
  },
  {
   "cell_type": "code",
   "execution_count": null,
   "metadata": {},
   "outputs": [],
   "source": [
    "# convert the month to the same 3 letter abbreviation as in the ERCOT table\n",
    "def shorten_month(col):\n",
    "    col['Month'] = col['Month'][0:3]\n",
    "    return col\n",
    "\n",
    "grid_more = grid_more.apply(shorten_month, axis=1)\n",
    "grid_more"
   ]
  },
  {
   "cell_type": "code",
   "execution_count": null,
   "metadata": {},
   "outputs": [],
   "source": [
    "# Assign based on the monthly percentage breakdown\n",
    "def assign_lbs(row):\n",
    "    row['Gas-CC lbs'] = (ercot_perc.loc['Gas-CC', row.Month] * row['grid']) * _gas_cc_lbs\n",
    "    row['Gas lbs'] = (ercot_perc.loc['Gas', row.Month] * row['grid']) * _gas_lbs\n",
    "    row['Coal lbs'] = (ercot_perc.loc['Coal', row.Month] * row['grid']) * _coal_lbs\n",
    "    return row\n",
    "\n",
    "\n",
    "grid_more = grid_more.apply(assign_lbs, axis=1)\n",
    "grid_more"
   ]
  },
  {
   "cell_type": "code",
   "execution_count": null,
   "metadata": {},
   "outputs": [],
   "source": [
    "# don't need these anymore\n",
    "grid_more = grid_more.drop(columns=['dataid', 'Month'])\n",
    "grid_more"
   ]
  },
  {
   "cell_type": "code",
   "execution_count": null,
   "metadata": {},
   "outputs": [],
   "source": [
    "# Add a total CO2 column\n",
    "grid_more['Total CO2'] = grid_more['Gas-CC lbs'] + grid_more['Gas lbs'] + grid_more['Coal lbs']\n",
    "grid_more"
   ]
  },
  {
   "cell_type": "code",
   "execution_count": null,
   "metadata": {},
   "outputs": [],
   "source": [
    "grid_more = grid_more.rename({'grid':'Grid Use (kWh)'} , axis='columns')"
   ]
  },
  {
   "cell_type": "code",
   "execution_count": null,
   "metadata": {},
   "outputs": [],
   "source": [
    "grid_more.plot(figsize=(25,15), title='Daily Grid (kWh) and Emissions in lbs of CO2', grid=True, xlabel='Day', ylabel='kWh or lbs CO2')"
   ]
  },
  {
   "cell_type": "markdown",
   "metadata": {},
   "source": [
    "# Observations:\n",
    "\n",
    "- These all solar homes have the capacity to offset some of the neighbors' emissions in the \"shoulder months\" by putting energy back on the grid\n",
    "- Total CO2 as measured in lbs/kWh tracks at nearly 1-to-1\n"
   ]
  },
  {
   "cell_type": "code",
   "execution_count": null,
   "metadata": {},
   "outputs": [],
   "source": []
  }
 ],
 "metadata": {
  "kernelspec": {
   "display_name": "Python 3",
   "language": "python",
   "name": "python3"
  },
  "language_info": {
   "codemirror_mode": {
    "name": "ipython",
    "version": 3
   },
   "file_extension": ".py",
   "mimetype": "text/x-python",
   "name": "python",
   "nbconvert_exporter": "python",
   "pygments_lexer": "ipython3",
   "version": "3.8.5"
  }
 },
 "nbformat": 4,
 "nbformat_minor": 4
}
