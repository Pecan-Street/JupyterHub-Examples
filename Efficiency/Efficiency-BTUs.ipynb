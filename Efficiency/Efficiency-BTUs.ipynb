{
 "cells": [
  {
   "cell_type": "markdown",
   "metadata": {},
   "source": [
    "# Something something Efficiency and BTUs:\n",
    "\n",
    "The `Efficiency-BTUs-data.ipynb` notebook in this same directory will also perform the database queries and export the files as zipped csv files to this directory. You would just need to change the `pg.read_csv()` calls to look in the current directory instead of the /shared one."
   ]
  },
  {
   "cell_type": "code",
   "execution_count": null,
   "metadata": {},
   "outputs": [],
   "source": [
    "#import packages\n",
    "import pandas as pd\n",
    "import matplotlib.pyplot as plt\n",
    "import psycopg2\n",
    "import sqlalchemy as sqla\n",
    "import os\n",
    "import sys\n",
    "sys.path.insert(0,'..')\n",
    "from config.read_config import get_database_config\n",
    "import numpy as np\n",
    "%matplotlib inline\n",
    "sys.executable  # shows you your path to the python you're using"
   ]
  },
  {
   "cell_type": "code",
   "execution_count": null,
   "metadata": {},
   "outputs": [],
   "source": [
    "# read in db credentials from ../config/config.txt\n",
    "# * make sure you add those to the ../config/config.txt file! *\n",
    "\n",
    "## Uncomment the following line to use the live database queries\n",
    "'''\n",
    "database_config = get_database_config(\"../config/config.txt\")\n",
    "'''\n",
    "#"
   ]
  },
  {
   "cell_type": "code",
   "execution_count": null,
   "metadata": {},
   "outputs": [],
   "source": [
    "# get our DB connection\n",
    "\n",
    "# uncomment if you want to use the live queries to the database instead of the prepared data\n",
    "'''\n",
    "engine = sqla.create_engine('postgresql://{}:{}@{}:{}/{}'.format(database_config['username'],\n",
    "                                                                     database_config['password'],\n",
    "                                                                     database_config['hostname'],\n",
    "                                                                     database_config['port'],\n",
    "                                                                     database_config['database']\n",
    "                                                                     ))\n",
    "'''\n"
   ]
  },
  {
   "cell_type": "code",
   "execution_count": null,
   "metadata": {},
   "outputs": [],
   "source": [
    "#Select a list of Texas homes from dataport metadata having good gas data availabilty\n",
    "\n",
    "# Uncomment the following block to use live database queries\n",
    "'''\n",
    "query = \"\"\"select distinct dataid, egauge_1min_data_availability, gas_data_availability, grid, solar from other_datasets.metadata \n",
    "                                         \n",
    "                                          where grid = 'yes'\n",
    "                                          and egauge_1min_min_time <= '2018-03-01' \n",
    "                                          and egauge_1min_max_time > '2018-09-01'\n",
    "                                          and city='Austin'\n",
    "                                          and (egauge_1min_data_availability like '100%' \n",
    "                                               or \n",
    "                                               egauge_1min_data_availability like '9%')\n",
    "                                          and gas_ert_min_time <= '2018-03-01'\n",
    "                                          and gas_ert_max_time > '2018-09-01'\n",
    "                                          and\n",
    "                                              (\n",
    "                                              gas_data_availability like '100%'\n",
    "                                              or\n",
    "                                              gas_data_availability like '9%'\n",
    "                                              or\n",
    "                                              gas_data_availability like '8%'\n",
    "                                              or\n",
    "                                              gas_data_availability like '7%'\n",
    "                                              )\n",
    "                                          ;\n",
    "         \"\"\"\n",
    "\n",
    "df = pd.read_sql_query(sqla.text(query), engine)\n",
    "df\n",
    "'''\n",
    "\n",
    "# otherwise we'll read from the prepared/extracted zipped data files\n",
    "df = pd.read_csv('/shared/JupyterHub-Examples-Data/efficiency/efficiency_btus_metadata.zip', compression='zip')\n",
    "df"
   ]
  },
  {
   "cell_type": "code",
   "execution_count": null,
   "metadata": {},
   "outputs": [],
   "source": [
    "# grab dataids and convert them to a string to put into the SQL query\n",
    "dataids_list = df['dataid'].tolist()\n",
    "print(\"{} dataids selected listed here:\".format(len(dataids_list)))\n",
    "dataids_str = ','.join(list(map(str, dataids_list)))"
   ]
  },
  {
   "cell_type": "code",
   "execution_count": null,
   "metadata": {},
   "outputs": [],
   "source": [
    "# Uncomment the following block to use live database queries\n",
    "\n",
    "'''\n",
    "#Pull electricity data for selected homes.\n",
    "data = \"\"\"select dataid,localminute::timestamp,solar,grid \n",
    "               from electricity.eg_realpower_1min \n",
    "               where localminute >= '2018-03-01' and localminute <  '2018-09-01' \"\"\"\n",
    "data = data + \"\"\"AND dataid in ({})\"\"\".format(dataids_str)\n",
    "\n",
    "# create a dataframe with the data from the sql query\n",
    "data_df = pd.read_sql_query(sqla.text(data), engine)\n",
    "'''\n",
    "\n",
    "# otherwise we'll read in the already prepared electricity data\n",
    "data_df = pd.read_csv('/shared/JupyterHub-Examples-Data/efficiency/efficiency_btus_electricity_data.zip', compression='zip')\n",
    "\n",
    "data_df"
   ]
  },
  {
   "cell_type": "code",
   "execution_count": null,
   "metadata": {},
   "outputs": [],
   "source": [
    "# convert 'localminute' to a datetime\n",
    "data_df['datetime'] = pd.to_datetime(data_df['localminute'])\n",
    "\n",
    "# index by datetime \n",
    "data_df = data_df.set_index('datetime')\n",
    "\n",
    "# bring to central timezone\n",
    "data_df = data_df.tz_localize(tz='US/Central')\n",
    "data_df"
   ]
  },
  {
   "cell_type": "code",
   "execution_count": null,
   "metadata": {},
   "outputs": [],
   "source": [
    "# add hour of day to df\n",
    "data_df['hour'] = data_df.index.hour\n",
    "data_df"
   ]
  },
  {
   "cell_type": "code",
   "execution_count": null,
   "metadata": {},
   "outputs": [],
   "source": [
    "# If there's no grid value, throw the row out\n",
    "data_df.dropna(subset=['grid'], inplace=True)\n",
    "data_df"
   ]
  },
  {
   "cell_type": "code",
   "execution_count": null,
   "metadata": {},
   "outputs": [],
   "source": [
    "# replace solar NaNs with 0\n",
    "data_df['solar'].fillna(value=0, inplace=True)\n",
    "print(data_df['solar'].isna().sum())\n",
    "\n",
    "# calculate the use, the grid minus the solar (we're actually adding them because solar generation shows up negative in the database)\n",
    "data_df['use'] = data_df['grid'] + data_df['solar']\n",
    "data_df"
   ]
  },
  {
   "cell_type": "code",
   "execution_count": null,
   "metadata": {},
   "outputs": [],
   "source": [
    "# group by the hour and take the mean to get the hourly average use\n",
    "usage = data_df.groupby(['hour']).mean()\n",
    "usage"
   ]
  },
  {
   "cell_type": "code",
   "execution_count": null,
   "metadata": {},
   "outputs": [],
   "source": [
    "# calc btus for kWh (1kWh = 3412 BTUs)\n",
    "usage['Electrical BTUs'] = usage['use'] * 3412\n",
    "usage"
   ]
  },
  {
   "cell_type": "code",
   "execution_count": null,
   "metadata": {},
   "outputs": [],
   "source": [
    "# Read in insolation data downloaded from Solar Forecast Arbitor for Austin for the same timeframe\n",
    "# https://dashboard.solarforecastarbiter.org/observations/c6d40462-7e49-11e9-aef1-0a580a8003e9\n",
    "insol = pd.read_csv('/shared/JupyterHub-Examples-Data/efficiency/Austin_TX_ghi_2018-03-01T06_00_00+00_00-2018-10-01T06_00_00+00_00.csv.zip', skiprows=2)\n",
    "insol['datetime'] = pd.to_datetime(insol['timestamp'])\n",
    "insol = insol.set_index('datetime')\n",
    "insol = insol.tz_convert(tz='US/Central')\n",
    "insol"
   ]
  },
  {
   "cell_type": "code",
   "execution_count": null,
   "metadata": {},
   "outputs": [],
   "source": [
    "# add hour of day to df\n",
    "insol['hour'] = insol.index.hour\n",
    "insol"
   ]
  },
  {
   "cell_type": "code",
   "execution_count": null,
   "metadata": {},
   "outputs": [],
   "source": [
    "# one could potentially look at the quality flag to determine if we want to keep the row or not\n",
    "insol = insol.drop(columns=['quality_flag'])\n",
    "insol.describe()"
   ]
  },
  {
   "cell_type": "code",
   "execution_count": null,
   "metadata": {},
   "outputs": [],
   "source": [
    "# group into hour of the day and take the mean\n",
    "grouped = insol.groupby(['hour']).mean()\n",
    "grouped"
   ]
  },
  {
   "cell_type": "code",
   "execution_count": null,
   "metadata": {},
   "outputs": [],
   "source": [
    "# Plot insolation vs grid usage for hour of the day\n",
    "\n",
    "fig, ax1 = plt.subplots(figsize=(20,10))\n",
    "\n",
    "color = 'tab:orange'\n",
    "\n",
    "ax1.set_xlabel('Hour of Day')\n",
    "ax1.set_ylabel('Insolation or GHI (W/m^2)')\n",
    "p1, = ax1.plot(grouped.index, grouped['value'],label=\"Insolation or GHI (W/m^2)\", color=color)\n",
    "ax1.tick_params(axis='y', labelcolor=color)\n",
    "\n",
    "ax2 = ax1.twinx()\n",
    "color = 'tab:blue'\n",
    "ax2.set_ylabel('Usage (kWh)')\n",
    "p2, = ax2.plot(grouped.index, usage['use'], label=\"Usage (kWh)\", color=color)\n",
    "ax2.tick_params(axis='y', labelcolor=color)\n",
    "\n",
    "ax1.legend((p1, p2), ('Insolation (W/m^2)', 'Usage (kWh)'), loc='upper right', shadow=True)\n",
    "\n",
    "plt.show()"
   ]
  },
  {
   "cell_type": "code",
   "execution_count": null,
   "metadata": {},
   "outputs": [],
   "source": [
    "# Read gas data for same homes and time period\n",
    "\n",
    "# uncomment the following block to do the live db query\n",
    "'''\n",
    "gas_sql = \"\"\"select * \n",
    "               from water_and_gas.gas_ert \n",
    "               where readtime >= '2018-03-01' and readtime <  '2018-09-01' \"\"\"\n",
    "gas_sql = gas_sql + \"\"\"AND dataid in ({})\"\"\".format(dataids_str)\n",
    "\n",
    "# create a dataframe with the data from the sql query\n",
    "gas_df = pd.read_sql_query(sqla.text(gas_sql), engine)\n",
    "\n",
    "'''\n",
    "\n",
    "# read from the prepared csv.zip file\n",
    "gas_df = pd.read_csv('/shared/JupyterHub-Examples-Data/efficiency/efficiency_btus_gas_data.zip', compression='zip')\n",
    "\n",
    "gas_df"
   ]
  },
  {
   "cell_type": "code",
   "execution_count": null,
   "metadata": {},
   "outputs": [],
   "source": [
    "# convert readtime to a datetime, set the index, and convert to Central Time\n",
    "pd.options.display.max_rows = 500\n",
    "gas_df['datetime'] = pd.to_datetime(gas_df['readtime'], utc=True)\n",
    "gas_df = gas_df.set_index('datetime')\n",
    "gas_df = gas_df.tz_convert(tz='US/Central')\n",
    "gas_df = gas_df.drop(columns=['readtime'])\n",
    "gas_df"
   ]
  },
  {
   "cell_type": "code",
   "execution_count": null,
   "metadata": {},
   "outputs": [],
   "source": [
    "# the gas (and water data for that matter) are cumulative meter readings, meaning that they gradually increase as more gas flows. \n",
    "# So you can have the same reading many times in a row, or you can have gaps with no readings until more gas is used.\n",
    "# You can also have the meter get reset to 0, so we're going to do some gymnastics to deal with all of that\n",
    "\n",
    "# group by dataid and hour then run a diff on the rows\n",
    "gas_df_group = gas_df.groupby(['dataid', pd.Grouper(freq='H')]).max().diff()\n",
    "\n",
    "gas_df_group = gas_df_group.dropna()\n",
    "\n",
    "# zero out the negative diffs because that's the meter being reset and going from some high number reading to 0 (This Needs Looking AT!!!! IDK if it's the right thing to do!)\n",
    "gas_df_group['meter_value'] = gas_df_group['meter_value'].clip(0)\n",
    "gas_df_group.describe()"
   ]
  },
  {
   "cell_type": "code",
   "execution_count": null,
   "metadata": {},
   "outputs": [],
   "source": [
    "# gas is measured in ft^3 convert to BTUs with (1CCF = 103,700BTU = 30.4kWh). (Per EIA's calculator, 1 cubic ft of natural gas is 1,037BTU.)\n",
    "\n",
    "# calculate the BTUs of gas used\n",
    "gas_df_group['Gas BTUs'] = gas_df_group['meter_value'] * 1037\n",
    "gas_df_group"
   ]
  },
  {
   "cell_type": "code",
   "execution_count": null,
   "metadata": {},
   "outputs": [],
   "source": [
    "# add hour of day to gas\n",
    "gas_df_group = gas_df_group.reset_index()\n",
    "gas_df_group = gas_df_group.set_index('datetime')\n",
    "gas_df_group['hour'] = gas_df_group.index.hour\n",
    "gas_df_group"
   ]
  },
  {
   "cell_type": "code",
   "execution_count": null,
   "metadata": {},
   "outputs": [],
   "source": [
    "# take the mean over all the same hours of the day across all dataids\n",
    "gas_hr_mean = gas_df_group.groupby(['hour']).mean()\n",
    "gas_hr_mean"
   ]
  },
  {
   "cell_type": "code",
   "execution_count": null,
   "metadata": {},
   "outputs": [],
   "source": [
    "# don't need those columns anymore\n",
    "gas_hr_mean = gas_hr_mean.drop(columns=['dataid','meter_value'])"
   ]
  },
  {
   "cell_type": "code",
   "execution_count": null,
   "metadata": {},
   "outputs": [],
   "source": [
    "# the first row is a bit meaningless as a diff, so we're dropping it\n",
    "gas_hr_mean = gas_hr_mean.drop([0])\n",
    "gas_hr_mean"
   ]
  },
  {
   "cell_type": "code",
   "execution_count": null,
   "metadata": {},
   "outputs": [],
   "source": [
    "# Let's have a peek at it\n",
    "gas_hr_mean.plot(figsize=(20,10), grid=True, x_compat=True, title=\"Gas Use in BTUs Per Hour of Day\")"
   ]
  },
  {
   "cell_type": "code",
   "execution_count": null,
   "metadata": {},
   "outputs": [],
   "source": [
    "# combine electrical usage and gas as btus\n",
    "combined = pd.merge(left=usage['Electrical BTUs'], right=gas_hr_mean['Gas BTUs'], left_on=usage.index, right_on=gas_hr_mean.index)\n",
    "combined = combined.drop(columns=['key_0'])\n",
    "combined"
   ]
  },
  {
   "cell_type": "code",
   "execution_count": null,
   "metadata": {},
   "outputs": [],
   "source": [
    "# let's see how those look on a plot. \n",
    "# Plotting with 2 y axes because of the scale difference between them\n",
    "\n",
    "fig, ax1 = plt.subplots(figsize=(20,10))\n",
    "\n",
    "color = 'tab:orange'\n",
    "\n",
    "ax1.set_xlabel('Hour of Day')\n",
    "ax1.set_ylabel('Electrical Use as BTUs')\n",
    "p1, = ax1.plot(usage.index, usage['Electrical BTUs'],label=\"Electrical Use as BTUs\", color=color)\n",
    "ax1.tick_params(axis='y', labelcolor=color)\n",
    "\n",
    "ax2 = ax1.twinx()\n",
    "color = 'tab:blue'\n",
    "ax2.set_ylabel('Gas Use as BTUs')\n",
    "p2, = ax2.plot(gas_hr_mean.index, gas_hr_mean['Gas BTUs'], label=\"Gas Use as BTUs\", color=color)\n",
    "ax2.tick_params(axis='y', labelcolor=color)\n",
    "\n",
    "ax1.legend((p1, p2), ('Electrical Use as BTUs', 'Gas Use as BTUs'), loc='upper right', shadow=True)\n",
    "\n",
    "plt.show()"
   ]
  },
  {
   "cell_type": "code",
   "execution_count": null,
   "metadata": {},
   "outputs": [],
   "source": [
    "# Combining into a single dataframe\n",
    "gas_hr_mean['Elec BTUs'] = usage['Electrical BTUs']\n",
    "gas_hr_mean"
   ]
  },
  {
   "cell_type": "code",
   "execution_count": null,
   "metadata": {},
   "outputs": [],
   "source": [
    "# More combining and renaming\n",
    "\n",
    "btus = usage.merge(gas_hr_mean, on=['hour'], how='left')\n",
    "btus = btus.drop(labels=['dataid', 'solar', 'grid', 'use', 'Elec BTUs'], axis=1)\n",
    "btus = btus.rename({'BTUs':'Electrical BTUs', 'Gas BTUs':'Gas BTUs'},axis='columns')\n",
    "btus\n"
   ]
  },
  {
   "cell_type": "code",
   "execution_count": null,
   "metadata": {},
   "outputs": [],
   "source": [
    "# lets go get some blucube water data now\n",
    "\n",
    "# uncomment this block for a direct database pull\n",
    "'''\n",
    "#Pull data for selected homes.\n",
    "water_sql = \"\"\"SELECT * FROM water_and_gas.blucube_water_data\n",
    "               where epoch_timestamp >= '2018-03-01' and epoch_timestamp <  '2018-09-01' \"\"\"\n",
    "water_sql = water_sql + \"\"\"AND dataid in ({})\"\"\".format(dataids_str)\n",
    "\n",
    "# create a dataframe with the data from the sql query\n",
    "water_df = pd.read_sql_query(sqla.text(water_sql), engine)\n",
    "\n",
    "'''\n",
    "\n",
    "# read in the prepared csv file\n",
    "water_df = pd.read_csv('/shared/JupyterHub-Examples-Data/efficiency/efficiency_btus_water_data.zip')\n",
    "\n",
    "water_df"
   ]
  },
  {
   "cell_type": "code",
   "execution_count": null,
   "metadata": {},
   "outputs": [],
   "source": [
    "# don't need the meter id\n",
    "water_df = water_df.drop(columns=['met_id']) \n",
    "water_df"
   ]
  },
  {
   "cell_type": "code",
   "execution_count": null,
   "metadata": {},
   "outputs": [],
   "source": [
    "# convert 'localminute' to a datetime\n",
    "water_df['datetime'] = pd.to_datetime(water_df['epoch_timestamp'], utc=True)\n",
    "\n",
    "# index by datetime \n",
    "water_df = water_df.set_index('datetime')\n",
    "\n",
    "# bring to central timezone\n",
    "water_df = water_df.tz_convert(tz='US/Central')\n",
    "water_df"
   ]
  },
  {
   "cell_type": "code",
   "execution_count": null,
   "metadata": {},
   "outputs": [],
   "source": [
    "water = water_df.drop(columns=['epoch_timestamp'])\n",
    "water"
   ]
  },
  {
   "cell_type": "code",
   "execution_count": null,
   "metadata": {},
   "outputs": [],
   "source": [
    "# group by dataid and hour then run a diff on the rows\n",
    "water_group = water.groupby(['dataid', pd.Grouper(freq='H')]).max().diff()\n",
    "\n",
    "water_group = water_group.dropna()\n",
    "\n",
    "# zero out the negative diffs because that's the meter being reset and going from some high number reading to 0\n",
    "water_group['reading_in_gal'] = water_group['reading_in_gal'].clip(0)\n",
    "water_group.describe()"
   ]
  },
  {
   "cell_type": "code",
   "execution_count": null,
   "metadata": {},
   "outputs": [],
   "source": [
    "water_group"
   ]
  },
  {
   "cell_type": "code",
   "execution_count": null,
   "metadata": {},
   "outputs": [],
   "source": [
    "# add hour of day to water\n",
    "water_group = water_group.reset_index()\n",
    "water_group = water_group.set_index('datetime')\n",
    "water_group['hour'] = water_group.index.hour\n",
    "water_group"
   ]
  },
  {
   "cell_type": "code",
   "execution_count": null,
   "metadata": {},
   "outputs": [],
   "source": [
    "# take the mean by hour of the day\n",
    "water_mean = water_group.groupby(['hour']).mean()\n",
    "water_mean = water_mean.drop(columns=['dataid'])\n",
    "water_mean"
   ]
  },
  {
   "cell_type": "code",
   "execution_count": null,
   "metadata": {},
   "outputs": [],
   "source": [
    "# convert gallons to kWh via 1,000,000 gallons =  5000kWh for Austin (reduced this is 200g to 1kWh, or divide the gallons by 200 to get kWh)\n",
    "########### PUT REF HERE!!!!!!!!!!!\n",
    "water_mean['Water BTUs'] = (water_mean['reading_in_gal'] / 200.0) * 3412\n",
    "water_mean"
   ]
  },
  {
   "cell_type": "code",
   "execution_count": null,
   "metadata": {},
   "outputs": [],
   "source": [
    "# again the first row is a bit meaningless because it's a diff against nothing\n",
    "water_mean = water_mean.drop([0])\n",
    "water_mean = water_mean.drop(columns=['reading_in_gal'])\n",
    "water_mean.plot(figsize=(20,10), grid=True, x_compat=True)"
   ]
  },
  {
   "cell_type": "code",
   "execution_count": null,
   "metadata": {},
   "outputs": [],
   "source": [
    "water_mean"
   ]
  },
  {
   "cell_type": "code",
   "execution_count": null,
   "metadata": {},
   "outputs": [],
   "source": [
    "btus"
   ]
  },
  {
   "cell_type": "code",
   "execution_count": null,
   "metadata": {},
   "outputs": [],
   "source": [
    "# combine all three into one dataframe\n",
    "btus = btus.merge(water_mean, on=['hour'], how='left')\n",
    "btus"
   ]
  },
  {
   "cell_type": "code",
   "execution_count": null,
   "metadata": {},
   "outputs": [],
   "source": [
    "# let's make some pretty pictures\n",
    "btus.plot(figsize=(20,10), grid=True, x_compat=True)"
   ]
  },
  {
   "cell_type": "code",
   "execution_count": null,
   "metadata": {},
   "outputs": [],
   "source": [
    "# now time to bring the insolation in, let's get it named properly\n",
    "grouped = grouped.rename({'value':'Insolation or GHI (W/m^2)'} , axis='columns')\n",
    "grouped"
   ]
  },
  {
   "cell_type": "code",
   "execution_count": null,
   "metadata": {},
   "outputs": [],
   "source": [
    "# Add insolation to the btus dataframe\n",
    "btus = btus.merge(grouped, on=['hour'], how='left')\n",
    "\n",
    "# calculate the sum of the 3 different btu usages\n",
    "btus['Sum BTUs'] = btus['Electrical BTUs'] + btus['Gas BTUs'] + btus['Water BTUs']\n",
    "btus"
   ]
  },
  {
   "cell_type": "code",
   "execution_count": null,
   "metadata": {},
   "outputs": [],
   "source": [
    "# let's plot it all\n",
    "# BTUs on one Y axis, and Insolation on the other.\n",
    "# X axis is the hour of the day\n",
    "\n",
    "fig, ax1 = plt.subplots(figsize=(20,10))\n",
    "\n",
    "color = 'tab:orange'\n",
    "\n",
    "ax1.set_xlabel('Hour of Day')\n",
    "ax1.set_ylabel('BTUs')\n",
    "p1, = ax1.plot(btus.index, btus['Electrical BTUs'],label=\"Electrical Use in BTUs\", color=color)\n",
    "p2, = ax1.plot(btus.index, btus['Gas BTUs'], label=\"Gas use in BTUs\", color='tab:green')\n",
    "p3, = ax1.plot(btus.index, btus['Water BTUs'], label=\"Water use in BTUs\", color='tab:purple')\n",
    "p4, = ax1.plot(btus.index, btus['Sum BTUs'], label=\"Sum BTUs\", color='tab:red')\n",
    "plt.legend(loc='upper left')\n",
    "ax1.tick_params(axis='y', labelcolor=color)\n",
    "\n",
    "ax2 = ax1.twinx()\n",
    "color = 'tab:blue'\n",
    "ax2.set_ylabel('Insolation or GHI (W/m^2)')\n",
    "p2, = ax2.plot(btus.index, btus['Insolation or GHI (W/m^2)'], label=\"Insolation or GHI (W/m^2)\", color=color)\n",
    "ax2.tick_params(axis='y', labelcolor=color)\n",
    "\n",
    "plt.legend(loc='upper right')\n",
    "plt.title('Home BTU Usage and Solar Insolation Per Hour of Day')\n",
    "\n",
    "plt.show()"
   ]
  },
  {
   "cell_type": "code",
   "execution_count": null,
   "metadata": {},
   "outputs": [],
   "source": [
    "# let's plot sum BTUs and Insolation\n",
    "fig, ax1 = plt.subplots(figsize=(20,10))\n",
    "\n",
    "color = 'tab:orange'\n",
    "\n",
    "ax1.set_xlabel('Hour of Day')\n",
    "ax1.set_ylabel('BTUs')\n",
    "p4, = ax1.plot(btus.index, btus['Sum BTUs'], label=\"Sum BTUs\", color='tab:red')\n",
    "plt.legend(loc='upper left')\n",
    "ax1.tick_params(axis='y', labelcolor=color)\n",
    "\n",
    "ax2 = ax1.twinx()\n",
    "color = 'tab:blue'\n",
    "ax2.set_ylabel('Insolation or GHI (W/m^2)')\n",
    "p2, = ax2.plot(btus.index, btus['Insolation or GHI (W/m^2)'], label=\"Insolation or GHI (W/m^2)\", color=color)\n",
    "ax2.tick_params(axis='y', labelcolor=color)\n",
    "\n",
    "plt.legend(loc='upper right')\n",
    "plt.title('Sum of Home BTU Usage and Solar Insolation Per Hour of Day')\n",
    "\n",
    "plt.show()"
   ]
  },
  {
   "cell_type": "markdown",
   "metadata": {},
   "source": [
    "# Have Scott write something up here. Or maybe Cavan. Welcome aboard Cavan! "
   ]
  },
  {
   "cell_type": "code",
   "execution_count": null,
   "metadata": {},
   "outputs": [],
   "source": []
  }
 ],
 "metadata": {
  "kernelspec": {
   "display_name": "Python 3",
   "language": "python",
   "name": "python3"
  },
  "language_info": {
   "codemirror_mode": {
    "name": "ipython",
    "version": 3
   },
   "file_extension": ".py",
   "mimetype": "text/x-python",
   "name": "python",
   "nbconvert_exporter": "python",
   "pygments_lexer": "ipython3",
   "version": "3.8.5"
  }
 },
 "nbformat": 4,
 "nbformat_minor": 4
}
