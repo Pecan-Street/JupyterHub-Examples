{
 "cells": [
  {
   "cell_type": "code",
   "execution_count": 40,
   "metadata": {},
   "outputs": [
    {
     "data": {
      "text/plain": [
       "'/usr/bin/python3.8'"
      ]
     },
     "execution_count": 40,
     "metadata": {},
     "output_type": "execute_result"
    }
   ],
   "source": [
    "#import packages\n",
    "import pandas as pd\n",
    "import matplotlib.pyplot as plt\n",
    "import psycopg2\n",
    "import sqlalchemy as sqla\n",
    "import os\n",
    "from config.read_config import get_database_config\n",
    "import numpy as np\n",
    "import sys\n",
    "%matplotlib inline\n",
    "sys.executable  # shows you your path to the python you're using"
   ]
  },
  {
   "cell_type": "code",
   "execution_count": 41,
   "metadata": {},
   "outputs": [],
   "source": [
    "# read in db credentials from config/config.txt\n",
    "# * make sure you add those to the config/config.txt file! *\n",
    "\n",
    "database_config = get_database_config(\"./config/config.txt\")"
   ]
  },
  {
   "cell_type": "code",
   "execution_count": 42,
   "metadata": {},
   "outputs": [],
   "source": [
    "# get our DB connection\n",
    "engine = sqla.create_engine('postgresql://{}:{}@{}:{}/{}'.format(database_config['username'],\n",
    "                                                                     database_config['password'],\n",
    "                                                                     database_config['hostname'],\n",
    "                                                                     database_config['port'],\n",
    "                                                                     database_config['database']\n",
    "                                                                     ))"
   ]
  },
  {
   "cell_type": "code",
   "execution_count": 43,
   "metadata": {},
   "outputs": [],
   "source": [
    "#Select a list of Texas homes from dataport metadata having CAR and solar configured and also has data for year 2018.\n",
    "query = \"\"\"select distinct dataid from other_datasets.metadata \n",
    "                                          where car1='yes' and solar='yes' \n",
    "                                          and egauge_1min_min_time < '2018-01-01' \n",
    "                                          and egauge_1min_max_time > '2019-01-01'\n",
    "                                          and state='Texas'\n",
    "                                          and (egauge_1min_data_availability like '100%' \n",
    "                                               or \n",
    "                                               egauge_1min_data_availability like '99%');\n",
    "         \"\"\"\n",
    "\n",
    "df = pd.read_sql_query(sqla.text(query), engine)"
   ]
  },
  {
   "cell_type": "code",
   "execution_count": 44,
   "metadata": {},
   "outputs": [
    {
     "name": "stdout",
     "output_type": "stream",
     "text": [
      "24 dataids selected listed here:\n"
     ]
    },
    {
     "data": {
      "text/plain": [
       "[114,\n",
       " 379,\n",
       " 1169,\n",
       " 1354,\n",
       " 2814,\n",
       " 3368,\n",
       " 3829,\n",
       " 3967,\n",
       " 5109,\n",
       " 5357,\n",
       " 5450,\n",
       " 5749,\n",
       " 6139,\n",
       " 6248,\n",
       " 6691,\n",
       " 7024,\n",
       " 7850,\n",
       " 7989,\n",
       " 8142,\n",
       " 8645,\n",
       " 8857,\n",
       " 9647,\n",
       " 9776,\n",
       " 9932]"
      ]
     },
     "execution_count": 44,
     "metadata": {},
     "output_type": "execute_result"
    }
   ],
   "source": [
    "# grab dataids and convert them to a string to put into the SQL query\n",
    "dataids_list = df['dataid'].tolist()\n",
    "print(\"{} dataids selected listed here:\".format(len(dataids_list)))\n",
    "dataids_str = ','.join(list(map(str, dataids_list)))\n",
    "dataids_str\n",
    "dataids_list"
   ]
  },
  {
   "cell_type": "code",
   "execution_count": 45,
   "metadata": {},
   "outputs": [],
   "source": [
    "#Check data completeness for dataids selected from metadata above.\n",
    "\n",
    "query2 = \"\"\"select dataid,count(*) total_rec from electricity.eg_realpower_1min \n",
    "            where dataid in ({})\"\"\".format(dataids_str)\n",
    "query2 = query2 + \"\"\" and localminute >= '2018-01-01' and localminute < '2019-01-01' group by 1\"\"\"\n",
    "\n",
    "df2 = pd.read_sql_query(sqla.text(query2), engine)"
   ]
  },
  {
   "cell_type": "code",
   "execution_count": 46,
   "metadata": {},
   "outputs": [
    {
     "data": {
      "text/plain": [
       "23"
      ]
     },
     "execution_count": 46,
     "metadata": {},
     "output_type": "execute_result"
    }
   ],
   "source": [
    "#Select homes with atleast 99% data availability for year 2018.\n",
    "df2['perc'] = (df2['total_rec']/525600)*100\n",
    "final_dataids = df2[df2['perc'] >= 99]\n",
    "final_dataids['dataid'].count()"
   ]
  },
  {
   "cell_type": "code",
   "execution_count": 47,
   "metadata": {},
   "outputs": [
    {
     "name": "stdout",
     "output_type": "stream",
     "text": [
      "23 dataids selected listed here:\n"
     ]
    },
    {
     "data": {
      "text/plain": [
       "[114,\n",
       " 379,\n",
       " 1169,\n",
       " 1354,\n",
       " 2814,\n",
       " 3368,\n",
       " 3829,\n",
       " 3967,\n",
       " 5109,\n",
       " 5357,\n",
       " 5450,\n",
       " 5749,\n",
       " 6139,\n",
       " 6248,\n",
       " 6691,\n",
       " 7024,\n",
       " 7850,\n",
       " 7989,\n",
       " 8142,\n",
       " 8645,\n",
       " 9647,\n",
       " 9776,\n",
       " 9932]"
      ]
     },
     "execution_count": 47,
     "metadata": {},
     "output_type": "execute_result"
    }
   ],
   "source": [
    "# Pull data for homes\n",
    "final_dataids_list = final_dataids['dataid'].tolist()\n",
    "print(\"{} dataids selected listed here:\".format(len(final_dataids_list)))\n",
    "final_dataids_str = ','.join(list(map(str, final_dataids_list)))\n",
    "final_dataids_str\n",
    "final_dataids_list"
   ]
  },
  {
   "cell_type": "code",
   "execution_count": 48,
   "metadata": {},
   "outputs": [],
   "source": [
    "#fall\n",
    "fall = \"\"\"select localminute::timestamp,car1,solar,grid \n",
    "               from electricity.eg_realpower_1min \n",
    "               where localminute >= '2018-09-01' and localminute <  '2018-12-01' \"\"\"\n",
    "fall = fall + \"\"\"AND dataid in ({})\"\"\".format(final_dataids_str)\n",
    "\n",
    "fall_df = pd.read_sql_query(sqla.text(fall), engine)"
   ]
  },
  {
   "cell_type": "code",
   "execution_count": 49,
   "metadata": {},
   "outputs": [],
   "source": [
    "#spring\n",
    "spring = \"\"\"select localminute::timestamp,car1,solar,grid \n",
    "               from electricity.eg_realpower_1min \n",
    "               where localminute >= '2018-03-01' and localminute <  '2018-06-01' \"\"\"\n",
    "spring = spring + \"\"\"AND dataid in ({})\"\"\".format(final_dataids_str)\n",
    "\n",
    "spring_df = pd.read_sql_query(sqla.text(spring), engine)"
   ]
  },
  {
   "cell_type": "code",
   "execution_count": 50,
   "metadata": {},
   "outputs": [],
   "source": [
    "#summer\n",
    "summer = \"\"\"select localminute::timestamp,car1,solar,grid \n",
    "               from electricity.eg_realpower_1min \n",
    "               where localminute >= '2018-06-01' and localminute <  '2018-09-01' \"\"\"\n",
    "summer = summer + \"\"\"AND dataid in ({})\"\"\".format(final_dataids_str)\n",
    "\n",
    "# create a dataframe with the data from the sql query\n",
    "summer_df = pd.read_sql_query(sqla.text(summer), engine)"
   ]
  },
  {
   "cell_type": "code",
   "execution_count": 51,
   "metadata": {},
   "outputs": [],
   "source": [
    "#winter\n",
    "winter = \"\"\"select localminute::timestamp,car1,solar,grid \n",
    "               from electricity.eg_realpower_1min \n",
    "               where localminute >= '2018-12-01' and localminute <  '2019-03-01' \"\"\"\n",
    "winter = winter + \"\"\"AND dataid in ({})\"\"\".format(final_dataids_str)\n",
    "\n",
    "# create a dataframe with the data from the sql query\n",
    "winter_df = pd.read_sql_query(sqla.text(winter), engine)"
   ]
  },
  {
   "cell_type": "code",
   "execution_count": null,
   "metadata": {},
   "outputs": [],
   "source": []
  }
 ],
 "metadata": {
  "kernelspec": {
   "display_name": "Python 3",
   "language": "python",
   "name": "python3"
  },
  "language_info": {
   "codemirror_mode": {
    "name": "ipython",
    "version": 3
   },
   "file_extension": ".py",
   "mimetype": "text/x-python",
   "name": "python",
   "nbconvert_exporter": "python",
   "pygments_lexer": "ipython3",
   "version": "3.8.2"
  }
 },
 "nbformat": 4,
 "nbformat_minor": 4
}
