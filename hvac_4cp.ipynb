{
 "cells": [
  {
   "cell_type": "markdown",
   "metadata": {},
   "source": [
    "# This notebook explores how household cooling align with the State of Texas’s critical peak power events? We will be using one-minute interval data from 50 Texas homes and will try to find out how many homes(%) had air conditioning on during these CP events for each year from 2016-2019."
   ]
  },
  {
   "cell_type": "code",
   "execution_count": null,
   "metadata": {},
   "outputs": [],
   "source": [
    "#import packages\n",
    "import pandas as pd\n",
    "import matplotlib.pyplot as plt\n",
    "import psycopg2\n",
    "import sqlalchemy as sqla\n",
    "import os\n",
    "from config.read_config import get_database_config\n",
    "import numpy as np\n",
    "import sys\n",
    "%matplotlib inline\n",
    "sys.executable  # shows you your path to the python you're using"
   ]
  },
  {
   "cell_type": "code",
   "execution_count": null,
   "metadata": {},
   "outputs": [],
   "source": [
    "# read in db credentials from config/config.txt\n",
    "# * make sure you add those to the config/config.txt file! *\n",
    "\n",
    "database_config = get_database_config(\"./config/config.txt\")"
   ]
  },
  {
   "cell_type": "code",
   "execution_count": null,
   "metadata": {},
   "outputs": [],
   "source": [
    "# get our DB connection\n",
    "engine = sqla.create_engine('postgresql://{}:{}@{}:{}/{}'.format(database_config['username'],\n",
    "                                                                     database_config['password'],\n",
    "                                                                     database_config['hostname'],\n",
    "                                                                     database_config['port'],\n",
    "                                                                     database_config['database']\n",
    "                                                                     ))"
   ]
  },
  {
   "cell_type": "code",
   "execution_count": null,
   "metadata": {},
   "outputs": [],
   "source": [
    "# These are the ERCOT 4CP events (start date/time and end date/time) for 2016 - 2019 acquired from\n",
    "# http://mis.ercot.com/misapp/GetReports.do?reportTypeId=13037&reportTitle=Planned%20Service%20Four%20Coincident%20Peak%20Calculations&showHTMLView=&mimicKey\n",
    "\n",
    "event_start_dates = ['2019-06-19 17:00:00-05', '2019-07-30 16:30:00-05', '2019-08-12 17:00:00-05', '2019-09-06 16:45:00-05',\n",
    "               '2018-06-27 17:00:00-05', '2018-07-19 17:00:00-05', '2018-08-23 16:45:00-05', '2018-09-19 16:30:00-05',\n",
    "               '2017-06-23 16:45:00-05', '2017-07-28 17:00:00-05', '2017-08-16 17:00:00-05', '2017-09-20 16:45:00-05',\n",
    "               '2016-06-15 17:00:00-05', '2016-07-14 16:00:00-05', '2016-08-11 16:30:00-05', '2016-09-19 16:16:00-05'\n",
    "              ]\n",
    "event_end_dates = ['2019-06-19 17:15:00-05', '2019-07-30 16:45:00-05', '2019-08-12 17:15:00-05', '2019-09-06 17:00:00-05',\n",
    "               '2018-06-27 17:15:00-05', '2018-07-19 17:15:00-05', '2018-08-23 17:00:00-05', '2018-09-19 16:45:00-05',\n",
    "               '2017-06-23 17:00:00-05', '2017-07-28 17:15:00-05', '2017-08-16 17:15:00-05', '2017-09-20 17:00:00-05',\n",
    "               '2016-06-15 17:15:00-05', '2016-07-14 16:15:00-05', '2016-08-11 16:45:00-05', '2016-09-19 16:31:00-05']"
   ]
  },
  {
   "cell_type": "code",
   "execution_count": null,
   "metadata": {},
   "outputs": [],
   "source": [
    "# Select homes with solar and hvac configured in Texas. \n",
    "\n",
    "query = \"\"\"select dataid from other_datasets.metadata \n",
    "           where air1='yes' and solar='yes' and state='Texas';\n",
    "        \"\"\"\n",
    "\n",
    "# create a Pandas dataframe with the data from the sql query\n",
    "df = pd.read_sql_query(sqla.text(query), engine)\n",
    "df"
   ]
  },
  {
   "cell_type": "code",
   "execution_count": null,
   "metadata": {},
   "outputs": [],
   "source": [
    "# grab dataids and convert them to a string to put into the SQL query\n",
    "dataids_list = df['dataid'].tolist()\n",
    "print(\"{} dataids selected listed here:\".format(len(dataids_list)))\n",
    "dataids_str = ','.join(list(map(str, dataids_list)))\n",
    "dataids_str\n",
    "dataids_list"
   ]
  },
  {
   "cell_type": "code",
   "execution_count": null,
   "metadata": {},
   "outputs": [],
   "source": [
    "#Assemble the SQL query to pull 1 minute data for the selected dataids for the CP dates mentioned above.\n",
    " \n",
    "first_start = event_start_dates.pop(0)\n",
    "first_end   = event_end_dates.pop(0)\n",
    "query_2 = \"\"\"\n",
    "select dataid, localminute,air1,air2,furnace1,furnace2,solar,grid from electricity.eg_realpower_1min \n",
    "where ((localminute >= '{}' and localminute <= '{}') \"\"\".format(first_start, first_end)\n",
    "\n",
    "for start, end in zip(event_start_dates, event_end_dates):\n",
    "    query_2 = query_2 + \"OR (localminute >= '{}' and localminute <= '{}') \".format(start, end)\n",
    "\n",
    "query_2 = query_2 + \"\"\" ) AND dataid in ({})\"\"\".format(dataids_str)\n",
    "\n",
    "# here's what that query is\n",
    "print(\"sql query is \\n\" + query_2)\n",
    "\n",
    "# create a dataframe with the data from the sql query\n",
    "df2 = pd.read_sql_query(sqla.text(query_2), engine)\n",
    "\n",
    "df2.head(15)"
   ]
  },
  {
   "cell_type": "code",
   "execution_count": null,
   "metadata": {},
   "outputs": [],
   "source": [
    "# Checking completeness of data. We will consider only those homes that have 100% data for the 4CP dates\n",
    "data = df2.groupby(['dataid']).size().reset_index(name='counts')\n",
    "data['perc'] = (data['counts']/256)*100\n",
    "ndata = data[data['perc'] == 100].head(50)\n",
    "final_dataids = ndata['dataid']\n",
    "final_dataids.count()\n",
    "df3=df2.loc[df2['dataid'].isin(final_dataids)]"
   ]
  },
  {
   "cell_type": "code",
   "execution_count": null,
   "metadata": {},
   "outputs": [],
   "source": [
    "#replace null with 0's \n",
    "df3 = df3.fillna(0)\n",
    "df3.head(10)"
   ]
  },
  {
   "cell_type": "code",
   "execution_count": null,
   "metadata": {},
   "outputs": [],
   "source": [
    "#create new column hvac.(hvac is sum of air compressor and furnace circuits.)\n",
    "df3['hvac'] = df3['air1'] + df3['air2'] + df3['furnace1'] + df3['furnace2']\n",
    "df3['localminute'] = df3['localminute'].dt.date\n",
    "df3.head(10)"
   ]
  },
  {
   "cell_type": "code",
   "execution_count": null,
   "metadata": {},
   "outputs": [],
   "source": [
    "#create new dataframe with columns dataid,hvac and date.\n",
    "hvac_cp_data = pd.DataFrame(df3, columns = ['dataid','hvac', 'localminute'])\n",
    "hvac_cp_data.head(10)"
   ]
  },
  {
   "cell_type": "code",
   "execution_count": null,
   "metadata": {},
   "outputs": [],
   "source": [
    "#group data by dataid and date and take average of hvac. \n",
    "#This gives us avaerage hvac usage for each home for each CP event day.\n",
    "hvac_cp_data_grouped = hvac_cp_data.groupby(['localminute','dataid']).mean()\n",
    "reset_hvac_cp_data_grouped = hvac_cp_data_grouped.reset_index()\n",
    "reset_hvac_cp_data_grouped.head(10)"
   ]
  },
  {
   "cell_type": "code",
   "execution_count": null,
   "metadata": {},
   "outputs": [],
   "source": [
    "#filtering data only for those interval when AC is actually cooling..\n",
    "#We consider AC is ON and cooling only when it's drawing power of atleast 500W. \n",
    "\n",
    "hvac_on = reset_hvac_cp_data_grouped[reset_hvac_cp_data_grouped['hvac'] > 0.5]\n",
    "homes_on = (hvac_on['localminute'].value_counts()/50)*100\n",
    "homes_on"
   ]
  },
  {
   "cell_type": "markdown",
   "metadata": {},
   "source": [
    "## From above results we can see that 70% of homes were ON and cooling for each CP event day from 2016-2019."
   ]
  }
 ],
 "metadata": {
  "kernelspec": {
   "display_name": "Python 3",
   "language": "python",
   "name": "python3"
  },
  "language_info": {
   "codemirror_mode": {
    "name": "ipython",
    "version": 3
   },
   "file_extension": ".py",
   "mimetype": "text/x-python",
   "name": "python",
   "nbconvert_exporter": "python",
   "pygments_lexer": "ipython3",
   "version": "3.7.3"
  }
 },
 "nbformat": 4,
 "nbformat_minor": 4
}
